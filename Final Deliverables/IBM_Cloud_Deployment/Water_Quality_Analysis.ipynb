{
  "nbformat": 4,
  "nbformat_minor": 0,
  "metadata": {
    "colab": {
      "provenance": []
    },
    "kernelspec": {
      "name": "python3",
      "display_name": "Python 3"
    },
    "language_info": {
      "name": "python"
    }
  },
  "cells": [
    {
      "cell_type": "markdown",
      "source": [
        "Importing libraries"
      ],
      "metadata": {
        "id": "MRFwcF4_sSKa"
      }
    },
    {
      "cell_type": "code",
      "execution_count": 1,
      "metadata": {
        "id": "N90Gi0zesH4a"
      },
      "outputs": [],
      "source": [
        "import numpy as np\n",
        "import pandas as pd\n",
        "import seaborn as sns\n",
        "import matplotlib.pyplot as plt\n",
        "import warnings"
      ]
    },
    {
      "cell_type": "markdown",
      "source": [
        "Reading Dataset"
      ],
      "metadata": {
        "id": "jXFFGNxhsV4e"
      }
    },
    {
      "cell_type": "code",
      "source": [
        "from google.colab import files \n",
        "uploaded = files.upload()"
      ],
      "metadata": {
        "colab": {
          "base_uri": "https://localhost:8080/",
          "height": 75
        },
        "id": "IEVDh9v2sVOb",
        "outputId": "334b8c52-e5b3-459f-84f7-e4eceb5f640c"
      },
      "execution_count": 3,
      "outputs": [
        {
          "output_type": "display_data",
          "data": {
            "text/plain": [
              "<IPython.core.display.HTML object>"
            ],
            "text/html": [
              "\n",
              "     <input type=\"file\" id=\"files-58b716a0-9cff-4a21-9cc7-eb3ae77107dd\" name=\"files[]\" multiple disabled\n",
              "        style=\"border:none\" />\n",
              "     <output id=\"result-58b716a0-9cff-4a21-9cc7-eb3ae77107dd\">\n",
              "      Upload widget is only available when the cell has been executed in the\n",
              "      current browser session. Please rerun this cell to enable.\n",
              "      </output>\n",
              "      <script>// Copyright 2017 Google LLC\n",
              "//\n",
              "// Licensed under the Apache License, Version 2.0 (the \"License\");\n",
              "// you may not use this file except in compliance with the License.\n",
              "// You may obtain a copy of the License at\n",
              "//\n",
              "//      http://www.apache.org/licenses/LICENSE-2.0\n",
              "//\n",
              "// Unless required by applicable law or agreed to in writing, software\n",
              "// distributed under the License is distributed on an \"AS IS\" BASIS,\n",
              "// WITHOUT WARRANTIES OR CONDITIONS OF ANY KIND, either express or implied.\n",
              "// See the License for the specific language governing permissions and\n",
              "// limitations under the License.\n",
              "\n",
              "/**\n",
              " * @fileoverview Helpers for google.colab Python module.\n",
              " */\n",
              "(function(scope) {\n",
              "function span(text, styleAttributes = {}) {\n",
              "  const element = document.createElement('span');\n",
              "  element.textContent = text;\n",
              "  for (const key of Object.keys(styleAttributes)) {\n",
              "    element.style[key] = styleAttributes[key];\n",
              "  }\n",
              "  return element;\n",
              "}\n",
              "\n",
              "// Max number of bytes which will be uploaded at a time.\n",
              "const MAX_PAYLOAD_SIZE = 100 * 1024;\n",
              "\n",
              "function _uploadFiles(inputId, outputId) {\n",
              "  const steps = uploadFilesStep(inputId, outputId);\n",
              "  const outputElement = document.getElementById(outputId);\n",
              "  // Cache steps on the outputElement to make it available for the next call\n",
              "  // to uploadFilesContinue from Python.\n",
              "  outputElement.steps = steps;\n",
              "\n",
              "  return _uploadFilesContinue(outputId);\n",
              "}\n",
              "\n",
              "// This is roughly an async generator (not supported in the browser yet),\n",
              "// where there are multiple asynchronous steps and the Python side is going\n",
              "// to poll for completion of each step.\n",
              "// This uses a Promise to block the python side on completion of each step,\n",
              "// then passes the result of the previous step as the input to the next step.\n",
              "function _uploadFilesContinue(outputId) {\n",
              "  const outputElement = document.getElementById(outputId);\n",
              "  const steps = outputElement.steps;\n",
              "\n",
              "  const next = steps.next(outputElement.lastPromiseValue);\n",
              "  return Promise.resolve(next.value.promise).then((value) => {\n",
              "    // Cache the last promise value to make it available to the next\n",
              "    // step of the generator.\n",
              "    outputElement.lastPromiseValue = value;\n",
              "    return next.value.response;\n",
              "  });\n",
              "}\n",
              "\n",
              "/**\n",
              " * Generator function which is called between each async step of the upload\n",
              " * process.\n",
              " * @param {string} inputId Element ID of the input file picker element.\n",
              " * @param {string} outputId Element ID of the output display.\n",
              " * @return {!Iterable<!Object>} Iterable of next steps.\n",
              " */\n",
              "function* uploadFilesStep(inputId, outputId) {\n",
              "  const inputElement = document.getElementById(inputId);\n",
              "  inputElement.disabled = false;\n",
              "\n",
              "  const outputElement = document.getElementById(outputId);\n",
              "  outputElement.innerHTML = '';\n",
              "\n",
              "  const pickedPromise = new Promise((resolve) => {\n",
              "    inputElement.addEventListener('change', (e) => {\n",
              "      resolve(e.target.files);\n",
              "    });\n",
              "  });\n",
              "\n",
              "  const cancel = document.createElement('button');\n",
              "  inputElement.parentElement.appendChild(cancel);\n",
              "  cancel.textContent = 'Cancel upload';\n",
              "  const cancelPromise = new Promise((resolve) => {\n",
              "    cancel.onclick = () => {\n",
              "      resolve(null);\n",
              "    };\n",
              "  });\n",
              "\n",
              "  // Wait for the user to pick the files.\n",
              "  const files = yield {\n",
              "    promise: Promise.race([pickedPromise, cancelPromise]),\n",
              "    response: {\n",
              "      action: 'starting',\n",
              "    }\n",
              "  };\n",
              "\n",
              "  cancel.remove();\n",
              "\n",
              "  // Disable the input element since further picks are not allowed.\n",
              "  inputElement.disabled = true;\n",
              "\n",
              "  if (!files) {\n",
              "    return {\n",
              "      response: {\n",
              "        action: 'complete',\n",
              "      }\n",
              "    };\n",
              "  }\n",
              "\n",
              "  for (const file of files) {\n",
              "    const li = document.createElement('li');\n",
              "    li.append(span(file.name, {fontWeight: 'bold'}));\n",
              "    li.append(span(\n",
              "        `(${file.type || 'n/a'}) - ${file.size} bytes, ` +\n",
              "        `last modified: ${\n",
              "            file.lastModifiedDate ? file.lastModifiedDate.toLocaleDateString() :\n",
              "                                    'n/a'} - `));\n",
              "    const percent = span('0% done');\n",
              "    li.appendChild(percent);\n",
              "\n",
              "    outputElement.appendChild(li);\n",
              "\n",
              "    const fileDataPromise = new Promise((resolve) => {\n",
              "      const reader = new FileReader();\n",
              "      reader.onload = (e) => {\n",
              "        resolve(e.target.result);\n",
              "      };\n",
              "      reader.readAsArrayBuffer(file);\n",
              "    });\n",
              "    // Wait for the data to be ready.\n",
              "    let fileData = yield {\n",
              "      promise: fileDataPromise,\n",
              "      response: {\n",
              "        action: 'continue',\n",
              "      }\n",
              "    };\n",
              "\n",
              "    // Use a chunked sending to avoid message size limits. See b/62115660.\n",
              "    let position = 0;\n",
              "    do {\n",
              "      const length = Math.min(fileData.byteLength - position, MAX_PAYLOAD_SIZE);\n",
              "      const chunk = new Uint8Array(fileData, position, length);\n",
              "      position += length;\n",
              "\n",
              "      const base64 = btoa(String.fromCharCode.apply(null, chunk));\n",
              "      yield {\n",
              "        response: {\n",
              "          action: 'append',\n",
              "          file: file.name,\n",
              "          data: base64,\n",
              "        },\n",
              "      };\n",
              "\n",
              "      let percentDone = fileData.byteLength === 0 ?\n",
              "          100 :\n",
              "          Math.round((position / fileData.byteLength) * 100);\n",
              "      percent.textContent = `${percentDone}% done`;\n",
              "\n",
              "    } while (position < fileData.byteLength);\n",
              "  }\n",
              "\n",
              "  // All done.\n",
              "  yield {\n",
              "    response: {\n",
              "      action: 'complete',\n",
              "    }\n",
              "  };\n",
              "}\n",
              "\n",
              "scope.google = scope.google || {};\n",
              "scope.google.colab = scope.google.colab || {};\n",
              "scope.google.colab._files = {\n",
              "  _uploadFiles,\n",
              "  _uploadFilesContinue,\n",
              "};\n",
              "})(self);\n",
              "</script> "
            ]
          },
          "metadata": {}
        },
        {
          "output_type": "stream",
          "name": "stdout",
          "text": [
            "Saving water_dataX.csv to water_dataX.csv\n"
          ]
        }
      ]
    },
    {
      "cell_type": "code",
      "source": [
        "data=pd.read_csv('water_dataX.csv',encoding='ISO-8859-1',low_memory=False)"
      ],
      "metadata": {
        "id": "UzZvYGZsspA-"
      },
      "execution_count": 4,
      "outputs": []
    },
    {
      "cell_type": "markdown",
      "source": [
        "Analyse the data"
      ],
      "metadata": {
        "id": "E3Q9V2Jiss1w"
      }
    },
    {
      "cell_type": "code",
      "source": [
        "data.head()"
      ],
      "metadata": {
        "colab": {
          "base_uri": "https://localhost:8080/",
          "height": 302
        },
        "id": "e7VzathVsuaX",
        "outputId": "c0e9da35-bdf6-4116-9aee-9d154f5312f7"
      },
      "execution_count": 5,
      "outputs": [
        {
          "output_type": "execute_result",
          "data": {
            "text/plain": [
              "  STATION CODE                                          LOCATIONS  \\\n",
              "0         1393               DAMANGANGA AT D/S OF MADHUBAN, DAMAN   \n",
              "1         1399  ZUARI AT D/S OF PT. WHERE KUMBARJRIA CANAL JOI...   \n",
              "2         1475                                ZUARI AT PANCHAWADI   \n",
              "3         3181                        RIVER ZUARI AT BORIM BRIDGE   \n",
              "4         3182                       RIVER ZUARI AT MARCAIM JETTY   \n",
              "\n",
              "         STATE  Temp D.O. (mg/l)   PH CONDUCTIVITY (µmhos/cm) B.O.D. (mg/l)  \\\n",
              "0  DAMAN & DIU  30.6         6.7  7.5                     203           NAN   \n",
              "1          GOA  29.8         5.7  7.2                     189             2   \n",
              "2          GOA  29.5         6.3  6.9                     179           1.7   \n",
              "3          GOA  29.7         5.8  6.9                      64           3.8   \n",
              "4          GOA  29.5         5.8  7.3                      83           1.9   \n",
              "\n",
              "  NITRATENAN N+ NITRITENANN (mg/l) FECAL COLIFORM (MPN/100ml)  \\\n",
              "0                              0.1                         11   \n",
              "1                              0.2                       4953   \n",
              "2                              0.1                       3243   \n",
              "3                              0.5                       5382   \n",
              "4                              0.4                       3428   \n",
              "\n",
              "  TOTAL COLIFORM (MPN/100ml)Mean  year  \n",
              "0                             27  2014  \n",
              "1                           8391  2014  \n",
              "2                           5330  2014  \n",
              "3                           8443  2014  \n",
              "4                           5500  2014  "
            ],
            "text/html": [
              "\n",
              "  <div id=\"df-d2f0564f-4383-4f9e-8d82-3b060ae662e4\">\n",
              "    <div class=\"colab-df-container\">\n",
              "      <div>\n",
              "<style scoped>\n",
              "    .dataframe tbody tr th:only-of-type {\n",
              "        vertical-align: middle;\n",
              "    }\n",
              "\n",
              "    .dataframe tbody tr th {\n",
              "        vertical-align: top;\n",
              "    }\n",
              "\n",
              "    .dataframe thead th {\n",
              "        text-align: right;\n",
              "    }\n",
              "</style>\n",
              "<table border=\"1\" class=\"dataframe\">\n",
              "  <thead>\n",
              "    <tr style=\"text-align: right;\">\n",
              "      <th></th>\n",
              "      <th>STATION CODE</th>\n",
              "      <th>LOCATIONS</th>\n",
              "      <th>STATE</th>\n",
              "      <th>Temp</th>\n",
              "      <th>D.O. (mg/l)</th>\n",
              "      <th>PH</th>\n",
              "      <th>CONDUCTIVITY (µmhos/cm)</th>\n",
              "      <th>B.O.D. (mg/l)</th>\n",
              "      <th>NITRATENAN N+ NITRITENANN (mg/l)</th>\n",
              "      <th>FECAL COLIFORM (MPN/100ml)</th>\n",
              "      <th>TOTAL COLIFORM (MPN/100ml)Mean</th>\n",
              "      <th>year</th>\n",
              "    </tr>\n",
              "  </thead>\n",
              "  <tbody>\n",
              "    <tr>\n",
              "      <th>0</th>\n",
              "      <td>1393</td>\n",
              "      <td>DAMANGANGA AT D/S OF MADHUBAN, DAMAN</td>\n",
              "      <td>DAMAN &amp; DIU</td>\n",
              "      <td>30.6</td>\n",
              "      <td>6.7</td>\n",
              "      <td>7.5</td>\n",
              "      <td>203</td>\n",
              "      <td>NAN</td>\n",
              "      <td>0.1</td>\n",
              "      <td>11</td>\n",
              "      <td>27</td>\n",
              "      <td>2014</td>\n",
              "    </tr>\n",
              "    <tr>\n",
              "      <th>1</th>\n",
              "      <td>1399</td>\n",
              "      <td>ZUARI AT D/S OF PT. WHERE KUMBARJRIA CANAL JOI...</td>\n",
              "      <td>GOA</td>\n",
              "      <td>29.8</td>\n",
              "      <td>5.7</td>\n",
              "      <td>7.2</td>\n",
              "      <td>189</td>\n",
              "      <td>2</td>\n",
              "      <td>0.2</td>\n",
              "      <td>4953</td>\n",
              "      <td>8391</td>\n",
              "      <td>2014</td>\n",
              "    </tr>\n",
              "    <tr>\n",
              "      <th>2</th>\n",
              "      <td>1475</td>\n",
              "      <td>ZUARI AT PANCHAWADI</td>\n",
              "      <td>GOA</td>\n",
              "      <td>29.5</td>\n",
              "      <td>6.3</td>\n",
              "      <td>6.9</td>\n",
              "      <td>179</td>\n",
              "      <td>1.7</td>\n",
              "      <td>0.1</td>\n",
              "      <td>3243</td>\n",
              "      <td>5330</td>\n",
              "      <td>2014</td>\n",
              "    </tr>\n",
              "    <tr>\n",
              "      <th>3</th>\n",
              "      <td>3181</td>\n",
              "      <td>RIVER ZUARI AT BORIM BRIDGE</td>\n",
              "      <td>GOA</td>\n",
              "      <td>29.7</td>\n",
              "      <td>5.8</td>\n",
              "      <td>6.9</td>\n",
              "      <td>64</td>\n",
              "      <td>3.8</td>\n",
              "      <td>0.5</td>\n",
              "      <td>5382</td>\n",
              "      <td>8443</td>\n",
              "      <td>2014</td>\n",
              "    </tr>\n",
              "    <tr>\n",
              "      <th>4</th>\n",
              "      <td>3182</td>\n",
              "      <td>RIVER ZUARI AT MARCAIM JETTY</td>\n",
              "      <td>GOA</td>\n",
              "      <td>29.5</td>\n",
              "      <td>5.8</td>\n",
              "      <td>7.3</td>\n",
              "      <td>83</td>\n",
              "      <td>1.9</td>\n",
              "      <td>0.4</td>\n",
              "      <td>3428</td>\n",
              "      <td>5500</td>\n",
              "      <td>2014</td>\n",
              "    </tr>\n",
              "  </tbody>\n",
              "</table>\n",
              "</div>\n",
              "      <button class=\"colab-df-convert\" onclick=\"convertToInteractive('df-d2f0564f-4383-4f9e-8d82-3b060ae662e4')\"\n",
              "              title=\"Convert this dataframe to an interactive table.\"\n",
              "              style=\"display:none;\">\n",
              "        \n",
              "  <svg xmlns=\"http://www.w3.org/2000/svg\" height=\"24px\"viewBox=\"0 0 24 24\"\n",
              "       width=\"24px\">\n",
              "    <path d=\"M0 0h24v24H0V0z\" fill=\"none\"/>\n",
              "    <path d=\"M18.56 5.44l.94 2.06.94-2.06 2.06-.94-2.06-.94-.94-2.06-.94 2.06-2.06.94zm-11 1L8.5 8.5l.94-2.06 2.06-.94-2.06-.94L8.5 2.5l-.94 2.06-2.06.94zm10 10l.94 2.06.94-2.06 2.06-.94-2.06-.94-.94-2.06-.94 2.06-2.06.94z\"/><path d=\"M17.41 7.96l-1.37-1.37c-.4-.4-.92-.59-1.43-.59-.52 0-1.04.2-1.43.59L10.3 9.45l-7.72 7.72c-.78.78-.78 2.05 0 2.83L4 21.41c.39.39.9.59 1.41.59.51 0 1.02-.2 1.41-.59l7.78-7.78 2.81-2.81c.8-.78.8-2.07 0-2.86zM5.41 20L4 18.59l7.72-7.72 1.47 1.35L5.41 20z\"/>\n",
              "  </svg>\n",
              "      </button>\n",
              "      \n",
              "  <style>\n",
              "    .colab-df-container {\n",
              "      display:flex;\n",
              "      flex-wrap:wrap;\n",
              "      gap: 12px;\n",
              "    }\n",
              "\n",
              "    .colab-df-convert {\n",
              "      background-color: #E8F0FE;\n",
              "      border: none;\n",
              "      border-radius: 50%;\n",
              "      cursor: pointer;\n",
              "      display: none;\n",
              "      fill: #1967D2;\n",
              "      height: 32px;\n",
              "      padding: 0 0 0 0;\n",
              "      width: 32px;\n",
              "    }\n",
              "\n",
              "    .colab-df-convert:hover {\n",
              "      background-color: #E2EBFA;\n",
              "      box-shadow: 0px 1px 2px rgba(60, 64, 67, 0.3), 0px 1px 3px 1px rgba(60, 64, 67, 0.15);\n",
              "      fill: #174EA6;\n",
              "    }\n",
              "\n",
              "    [theme=dark] .colab-df-convert {\n",
              "      background-color: #3B4455;\n",
              "      fill: #D2E3FC;\n",
              "    }\n",
              "\n",
              "    [theme=dark] .colab-df-convert:hover {\n",
              "      background-color: #434B5C;\n",
              "      box-shadow: 0px 1px 3px 1px rgba(0, 0, 0, 0.15);\n",
              "      filter: drop-shadow(0px 1px 2px rgba(0, 0, 0, 0.3));\n",
              "      fill: #FFFFFF;\n",
              "    }\n",
              "  </style>\n",
              "\n",
              "      <script>\n",
              "        const buttonEl =\n",
              "          document.querySelector('#df-d2f0564f-4383-4f9e-8d82-3b060ae662e4 button.colab-df-convert');\n",
              "        buttonEl.style.display =\n",
              "          google.colab.kernel.accessAllowed ? 'block' : 'none';\n",
              "\n",
              "        async function convertToInteractive(key) {\n",
              "          const element = document.querySelector('#df-d2f0564f-4383-4f9e-8d82-3b060ae662e4');\n",
              "          const dataTable =\n",
              "            await google.colab.kernel.invokeFunction('convertToInteractive',\n",
              "                                                     [key], {});\n",
              "          if (!dataTable) return;\n",
              "\n",
              "          const docLinkHtml = 'Like what you see? Visit the ' +\n",
              "            '<a target=\"_blank\" href=https://colab.research.google.com/notebooks/data_table.ipynb>data table notebook</a>'\n",
              "            + ' to learn more about interactive tables.';\n",
              "          element.innerHTML = '';\n",
              "          dataTable['output_type'] = 'display_data';\n",
              "          await google.colab.output.renderOutput(dataTable, element);\n",
              "          const docLink = document.createElement('div');\n",
              "          docLink.innerHTML = docLinkHtml;\n",
              "          element.appendChild(docLink);\n",
              "        }\n",
              "      </script>\n",
              "    </div>\n",
              "  </div>\n",
              "  "
            ]
          },
          "metadata": {},
          "execution_count": 5
        }
      ]
    },
    {
      "cell_type": "code",
      "source": [
        "data.describe()"
      ],
      "metadata": {
        "colab": {
          "base_uri": "https://localhost:8080/",
          "height": 300
        },
        "id": "jyx4Nzd5sy8I",
        "outputId": "3ea9b34f-8e20-4af9-c934-66f85c18689b"
      },
      "execution_count": 6,
      "outputs": [
        {
          "output_type": "execute_result",
          "data": {
            "text/plain": [
              "              year\n",
              "count  1991.000000\n",
              "mean   2010.038172\n",
              "std       3.057333\n",
              "min    2003.000000\n",
              "25%    2008.000000\n",
              "50%    2011.000000\n",
              "75%    2013.000000\n",
              "max    2014.000000"
            ],
            "text/html": [
              "\n",
              "  <div id=\"df-bc82642a-8100-48f1-b00c-78315fa483db\">\n",
              "    <div class=\"colab-df-container\">\n",
              "      <div>\n",
              "<style scoped>\n",
              "    .dataframe tbody tr th:only-of-type {\n",
              "        vertical-align: middle;\n",
              "    }\n",
              "\n",
              "    .dataframe tbody tr th {\n",
              "        vertical-align: top;\n",
              "    }\n",
              "\n",
              "    .dataframe thead th {\n",
              "        text-align: right;\n",
              "    }\n",
              "</style>\n",
              "<table border=\"1\" class=\"dataframe\">\n",
              "  <thead>\n",
              "    <tr style=\"text-align: right;\">\n",
              "      <th></th>\n",
              "      <th>year</th>\n",
              "    </tr>\n",
              "  </thead>\n",
              "  <tbody>\n",
              "    <tr>\n",
              "      <th>count</th>\n",
              "      <td>1991.000000</td>\n",
              "    </tr>\n",
              "    <tr>\n",
              "      <th>mean</th>\n",
              "      <td>2010.038172</td>\n",
              "    </tr>\n",
              "    <tr>\n",
              "      <th>std</th>\n",
              "      <td>3.057333</td>\n",
              "    </tr>\n",
              "    <tr>\n",
              "      <th>min</th>\n",
              "      <td>2003.000000</td>\n",
              "    </tr>\n",
              "    <tr>\n",
              "      <th>25%</th>\n",
              "      <td>2008.000000</td>\n",
              "    </tr>\n",
              "    <tr>\n",
              "      <th>50%</th>\n",
              "      <td>2011.000000</td>\n",
              "    </tr>\n",
              "    <tr>\n",
              "      <th>75%</th>\n",
              "      <td>2013.000000</td>\n",
              "    </tr>\n",
              "    <tr>\n",
              "      <th>max</th>\n",
              "      <td>2014.000000</td>\n",
              "    </tr>\n",
              "  </tbody>\n",
              "</table>\n",
              "</div>\n",
              "      <button class=\"colab-df-convert\" onclick=\"convertToInteractive('df-bc82642a-8100-48f1-b00c-78315fa483db')\"\n",
              "              title=\"Convert this dataframe to an interactive table.\"\n",
              "              style=\"display:none;\">\n",
              "        \n",
              "  <svg xmlns=\"http://www.w3.org/2000/svg\" height=\"24px\"viewBox=\"0 0 24 24\"\n",
              "       width=\"24px\">\n",
              "    <path d=\"M0 0h24v24H0V0z\" fill=\"none\"/>\n",
              "    <path d=\"M18.56 5.44l.94 2.06.94-2.06 2.06-.94-2.06-.94-.94-2.06-.94 2.06-2.06.94zm-11 1L8.5 8.5l.94-2.06 2.06-.94-2.06-.94L8.5 2.5l-.94 2.06-2.06.94zm10 10l.94 2.06.94-2.06 2.06-.94-2.06-.94-.94-2.06-.94 2.06-2.06.94z\"/><path d=\"M17.41 7.96l-1.37-1.37c-.4-.4-.92-.59-1.43-.59-.52 0-1.04.2-1.43.59L10.3 9.45l-7.72 7.72c-.78.78-.78 2.05 0 2.83L4 21.41c.39.39.9.59 1.41.59.51 0 1.02-.2 1.41-.59l7.78-7.78 2.81-2.81c.8-.78.8-2.07 0-2.86zM5.41 20L4 18.59l7.72-7.72 1.47 1.35L5.41 20z\"/>\n",
              "  </svg>\n",
              "      </button>\n",
              "      \n",
              "  <style>\n",
              "    .colab-df-container {\n",
              "      display:flex;\n",
              "      flex-wrap:wrap;\n",
              "      gap: 12px;\n",
              "    }\n",
              "\n",
              "    .colab-df-convert {\n",
              "      background-color: #E8F0FE;\n",
              "      border: none;\n",
              "      border-radius: 50%;\n",
              "      cursor: pointer;\n",
              "      display: none;\n",
              "      fill: #1967D2;\n",
              "      height: 32px;\n",
              "      padding: 0 0 0 0;\n",
              "      width: 32px;\n",
              "    }\n",
              "\n",
              "    .colab-df-convert:hover {\n",
              "      background-color: #E2EBFA;\n",
              "      box-shadow: 0px 1px 2px rgba(60, 64, 67, 0.3), 0px 1px 3px 1px rgba(60, 64, 67, 0.15);\n",
              "      fill: #174EA6;\n",
              "    }\n",
              "\n",
              "    [theme=dark] .colab-df-convert {\n",
              "      background-color: #3B4455;\n",
              "      fill: #D2E3FC;\n",
              "    }\n",
              "\n",
              "    [theme=dark] .colab-df-convert:hover {\n",
              "      background-color: #434B5C;\n",
              "      box-shadow: 0px 1px 3px 1px rgba(0, 0, 0, 0.15);\n",
              "      filter: drop-shadow(0px 1px 2px rgba(0, 0, 0, 0.3));\n",
              "      fill: #FFFFFF;\n",
              "    }\n",
              "  </style>\n",
              "\n",
              "      <script>\n",
              "        const buttonEl =\n",
              "          document.querySelector('#df-bc82642a-8100-48f1-b00c-78315fa483db button.colab-df-convert');\n",
              "        buttonEl.style.display =\n",
              "          google.colab.kernel.accessAllowed ? 'block' : 'none';\n",
              "\n",
              "        async function convertToInteractive(key) {\n",
              "          const element = document.querySelector('#df-bc82642a-8100-48f1-b00c-78315fa483db');\n",
              "          const dataTable =\n",
              "            await google.colab.kernel.invokeFunction('convertToInteractive',\n",
              "                                                     [key], {});\n",
              "          if (!dataTable) return;\n",
              "\n",
              "          const docLinkHtml = 'Like what you see? Visit the ' +\n",
              "            '<a target=\"_blank\" href=https://colab.research.google.com/notebooks/data_table.ipynb>data table notebook</a>'\n",
              "            + ' to learn more about interactive tables.';\n",
              "          element.innerHTML = '';\n",
              "          dataTable['output_type'] = 'display_data';\n",
              "          await google.colab.output.renderOutput(dataTable, element);\n",
              "          const docLink = document.createElement('div');\n",
              "          docLink.innerHTML = docLinkHtml;\n",
              "          element.appendChild(docLink);\n",
              "        }\n",
              "      </script>\n",
              "    </div>\n",
              "  </div>\n",
              "  "
            ]
          },
          "metadata": {},
          "execution_count": 6
        }
      ]
    },
    {
      "cell_type": "code",
      "source": [
        "data.info()"
      ],
      "metadata": {
        "colab": {
          "base_uri": "https://localhost:8080/"
        },
        "id": "Lo8JNuXxs06J",
        "outputId": "ef5706f6-bf87-4c73-e60a-a708b6fe71bd"
      },
      "execution_count": 7,
      "outputs": [
        {
          "output_type": "stream",
          "name": "stdout",
          "text": [
            "<class 'pandas.core.frame.DataFrame'>\n",
            "RangeIndex: 1991 entries, 0 to 1990\n",
            "Data columns (total 12 columns):\n",
            " #   Column                            Non-Null Count  Dtype \n",
            "---  ------                            --------------  ----- \n",
            " 0   STATION CODE                      1991 non-null   object\n",
            " 1   LOCATIONS                         1991 non-null   object\n",
            " 2   STATE                             1991 non-null   object\n",
            " 3   Temp                              1991 non-null   object\n",
            " 4   D.O. (mg/l)                       1991 non-null   object\n",
            " 5   PH                                1991 non-null   object\n",
            " 6   CONDUCTIVITY (µmhos/cm)           1991 non-null   object\n",
            " 7   B.O.D. (mg/l)                     1991 non-null   object\n",
            " 8   NITRATENAN N+ NITRITENANN (mg/l)  1991 non-null   object\n",
            " 9   FECAL COLIFORM (MPN/100ml)        1991 non-null   object\n",
            " 10  TOTAL COLIFORM (MPN/100ml)Mean    1991 non-null   object\n",
            " 11  year                              1991 non-null   int64 \n",
            "dtypes: int64(1), object(11)\n",
            "memory usage: 186.8+ KB\n"
          ]
        }
      ]
    },
    {
      "cell_type": "code",
      "source": [
        "data.shape"
      ],
      "metadata": {
        "colab": {
          "base_uri": "https://localhost:8080/"
        },
        "id": "BbSb8HiSs3VF",
        "outputId": "822643ed-2fcc-4789-fc7d-4a8b2b8177c1"
      },
      "execution_count": 8,
      "outputs": [
        {
          "output_type": "execute_result",
          "data": {
            "text/plain": [
              "(1991, 12)"
            ]
          },
          "metadata": {},
          "execution_count": 8
        }
      ]
    },
    {
      "cell_type": "markdown",
      "source": [
        "Handling Missing Values_1"
      ],
      "metadata": {
        "id": "ML6RcqP-s5hT"
      }
    },
    {
      "cell_type": "code",
      "source": [
        "data.isnull().any()"
      ],
      "metadata": {
        "colab": {
          "base_uri": "https://localhost:8080/"
        },
        "id": "TDlROhZSs6P7",
        "outputId": "83213907-cab9-409e-ce42-14822a4c3b02"
      },
      "execution_count": 9,
      "outputs": [
        {
          "output_type": "execute_result",
          "data": {
            "text/plain": [
              "STATION CODE                        False\n",
              "LOCATIONS                           False\n",
              "STATE                               False\n",
              "Temp                                False\n",
              "D.O. (mg/l)                         False\n",
              "PH                                  False\n",
              "CONDUCTIVITY (µmhos/cm)             False\n",
              "B.O.D. (mg/l)                       False\n",
              "NITRATENAN N+ NITRITENANN (mg/l)    False\n",
              "FECAL COLIFORM (MPN/100ml)          False\n",
              "TOTAL COLIFORM (MPN/100ml)Mean      False\n",
              "year                                False\n",
              "dtype: bool"
            ]
          },
          "metadata": {},
          "execution_count": 9
        }
      ]
    },
    {
      "cell_type": "code",
      "source": [
        "data.isnull().sum()"
      ],
      "metadata": {
        "colab": {
          "base_uri": "https://localhost:8080/"
        },
        "id": "fWRJhE8as9Vh",
        "outputId": "5dea7f98-da79-4eca-8285-efc219423591"
      },
      "execution_count": 10,
      "outputs": [
        {
          "output_type": "execute_result",
          "data": {
            "text/plain": [
              "STATION CODE                        0\n",
              "LOCATIONS                           0\n",
              "STATE                               0\n",
              "Temp                                0\n",
              "D.O. (mg/l)                         0\n",
              "PH                                  0\n",
              "CONDUCTIVITY (µmhos/cm)             0\n",
              "B.O.D. (mg/l)                       0\n",
              "NITRATENAN N+ NITRITENANN (mg/l)    0\n",
              "FECAL COLIFORM (MPN/100ml)          0\n",
              "TOTAL COLIFORM (MPN/100ml)Mean      0\n",
              "year                                0\n",
              "dtype: int64"
            ]
          },
          "metadata": {},
          "execution_count": 10
        }
      ]
    },
    {
      "cell_type": "code",
      "source": [
        "data.dtypes"
      ],
      "metadata": {
        "colab": {
          "base_uri": "https://localhost:8080/"
        },
        "id": "iQPQ4xjCs_WO",
        "outputId": "e65219c2-1e7c-4e5d-bea4-aff832403a6b"
      },
      "execution_count": 11,
      "outputs": [
        {
          "output_type": "execute_result",
          "data": {
            "text/plain": [
              "STATION CODE                        object\n",
              "LOCATIONS                           object\n",
              "STATE                               object\n",
              "Temp                                object\n",
              "D.O. (mg/l)                         object\n",
              "PH                                  object\n",
              "CONDUCTIVITY (µmhos/cm)             object\n",
              "B.O.D. (mg/l)                       object\n",
              "NITRATENAN N+ NITRITENANN (mg/l)    object\n",
              "FECAL COLIFORM (MPN/100ml)          object\n",
              "TOTAL COLIFORM (MPN/100ml)Mean      object\n",
              "year                                 int64\n",
              "dtype: object"
            ]
          },
          "metadata": {},
          "execution_count": 11
        }
      ]
    },
    {
      "cell_type": "code",
      "source": [
        "data['Temp']=pd.to_numeric(data['Temp'],errors='coerce')\n",
        "data['D.O. (mg/l)']=pd.to_numeric(data['D.O. (mg/l)'],errors='coerce')\n",
        "data['PH']=pd.to_numeric(data['PH'],errors='coerce')\n",
        "data['B.O.D. (mg/l)']=pd.to_numeric(data['B.O.D. (mg/l)'],errors='coerce')\n",
        "data['CONDUCTIVITY (µmhos/cm)']=pd.to_numeric(data['CONDUCTIVITY (µmhos/cm)'],errors='coerce')\n",
        "data['NITRATENAN N+ NITRITENANN (mg/l)']=pd.to_numeric(data['NITRATENAN N+ NITRITENANN (mg/l)'],errors='coerce')\n",
        "data['TOTAL COLIFORM (MPN/100ml)Mean']=pd.to_numeric(data['TOTAL COLIFORM (MPN/100ml)Mean'],errors='coerce')\n",
        "data.dtypes"
      ],
      "metadata": {
        "colab": {
          "base_uri": "https://localhost:8080/"
        },
        "id": "ZVixck5AtBCI",
        "outputId": "2fc309ea-05be-4896-8dcc-e4367e229dd7"
      },
      "execution_count": 12,
      "outputs": [
        {
          "output_type": "execute_result",
          "data": {
            "text/plain": [
              "STATION CODE                         object\n",
              "LOCATIONS                            object\n",
              "STATE                                object\n",
              "Temp                                float64\n",
              "D.O. (mg/l)                         float64\n",
              "PH                                  float64\n",
              "CONDUCTIVITY (µmhos/cm)             float64\n",
              "B.O.D. (mg/l)                       float64\n",
              "NITRATENAN N+ NITRITENANN (mg/l)    float64\n",
              "FECAL COLIFORM (MPN/100ml)           object\n",
              "TOTAL COLIFORM (MPN/100ml)Mean      float64\n",
              "year                                  int64\n",
              "dtype: object"
            ]
          },
          "metadata": {},
          "execution_count": 12
        }
      ]
    },
    {
      "cell_type": "code",
      "source": [
        "data.isnull().sum()"
      ],
      "metadata": {
        "colab": {
          "base_uri": "https://localhost:8080/"
        },
        "id": "9ZLu8Q1btDO1",
        "outputId": "1c608cba-b85f-4ec5-9c02-77a692f0c603"
      },
      "execution_count": 13,
      "outputs": [
        {
          "output_type": "execute_result",
          "data": {
            "text/plain": [
              "STATION CODE                          0\n",
              "LOCATIONS                             0\n",
              "STATE                                 0\n",
              "Temp                                 92\n",
              "D.O. (mg/l)                          31\n",
              "PH                                    8\n",
              "CONDUCTIVITY (µmhos/cm)              25\n",
              "B.O.D. (mg/l)                        43\n",
              "NITRATENAN N+ NITRITENANN (mg/l)    225\n",
              "FECAL COLIFORM (MPN/100ml)            0\n",
              "TOTAL COLIFORM (MPN/100ml)Mean      132\n",
              "year                                  0\n",
              "dtype: int64"
            ]
          },
          "metadata": {},
          "execution_count": 13
        }
      ]
    },
    {
      "cell_type": "code",
      "source": [
        "data['Temp'].fillna(data['Temp'].mean(),inplace=True)\n",
        "data['D.O. (mg/l)'].fillna(data['D.O. (mg/l)'].mean(),inplace=True)\n",
        "data['PH'].fillna(data['PH'].mean(),inplace=True)\n",
        "data['CONDUCTIVITY (µmhos/cm)'].fillna(data['CONDUCTIVITY (µmhos/cm)'].mean(),inplace=True)\n",
        "data['B.O.D. (mg/l)'].fillna(data['B.O.D. (mg/l)'].mean(),inplace=True)\n",
        "data['NITRATENAN N+ NITRITENANN (mg/l)'].fillna(data['NITRATENAN N+ NITRITENANN (mg/l)'].mean(),inplace=True)\n",
        "data['TOTAL COLIFORM (MPN/100ml)Mean'].fillna(data['TOTAL COLIFORM (MPN/100ml)Mean'].mean(),inplace=True)"
      ],
      "metadata": {
        "id": "GSWy3npLtGO8"
      },
      "execution_count": 14,
      "outputs": []
    },
    {
      "cell_type": "code",
      "source": [
        "data.drop([\"FECAL COLIFORM (MPN/100ml)\"],axis=1,inplace=True)"
      ],
      "metadata": {
        "id": "QzGrsSRetIUf"
      },
      "execution_count": 15,
      "outputs": []
    },
    {
      "cell_type": "code",
      "source": [
        "data=data.rename(columns = {'D.O. (mg/l)': 'do'})\n",
        "data=data.rename(columns = {'CONDUCTIVITY (µmhos/cm)': 'co'})\n",
        "data=data.rename(columns = {'B.O.D. (mg/l)': 'bod'})\n",
        "data=data.rename(columns = {'NITRATENAN N+ NITRITENANN (mg/l)': 'na'})\n",
        "data=data.rename(columns = {'TOTAL COLIFORM (MPN/100ml)Mean': 'tc'})\n",
        "data=data.rename(columns = {'STATION CODE': 'station'})\n",
        "data=data.rename(columns = {'LOCATIONS': 'location'})\n",
        "data=data.rename(columns = {'STATE': 'state'})\n",
        "data=data.rename(columns = {'PH': 'ph'})"
      ],
      "metadata": {
        "id": "PHfbPuC8tKKc"
      },
      "execution_count": 16,
      "outputs": []
    },
    {
      "cell_type": "markdown",
      "source": [
        "Water Quality Index (WQI) Calculation"
      ],
      "metadata": {
        "id": "dlgNesRbtL2q"
      }
    },
    {
      "cell_type": "code",
      "source": [
        "#calculation of pH\n",
        "data['npH']=data.ph.apply(lambda x: (100 if(8.5>=x>=7)\n",
        "                                else(80 if(8.6>=x>=8.5) or (6.9>=x>=6.8)\n",
        "                                  else (60 if(8.8>=x>=8.6) or (6.8>=x>=6.7)\n",
        "                                      else(40 if(9>=x>=8.8) or (6.7>=x>=6.5)\n",
        "                                          else 0)))))"
      ],
      "metadata": {
        "id": "vOqBRfjVtMpi"
      },
      "execution_count": 17,
      "outputs": []
    },
    {
      "cell_type": "code",
      "source": [
        "#calculation of dissolved oxygen\n",
        "data['ndo']=data.do.apply(lambda x: (100 if(x>=6)\n",
        "                                else(80 if(6>=x>=5.1)\n",
        "                                  else (60 if(5>=x>=4.1)\n",
        "                                      else(40 if(4>=x>=3)\n",
        "                                          else 0)))))"
      ],
      "metadata": {
        "id": "1tbWiZeYtOe6"
      },
      "execution_count": 18,
      "outputs": []
    },
    {
      "cell_type": "code",
      "source": [
        "#calculation of total coliform\n",
        "data['nco']=data.tc.apply(lambda x: (100 if(5>=x>=0)\n",
        "                                else(80 if(50>=x>=5)\n",
        "                                  else (60 if(500>=x>=50)\n",
        "                                      else(40 if(10000>=x>=500)\n",
        "                                          else 0)))))"
      ],
      "metadata": {
        "id": "K-AOrMFltRSB"
      },
      "execution_count": 19,
      "outputs": []
    },
    {
      "cell_type": "code",
      "source": [
        "#calculation of B.D.O\n",
        "data['nbdo']=data.bod.apply(lambda x:(100 if(3>=x>=0)\n",
        "                                else(80 if(6>=x>=3)\n",
        "                                  else (60 if(80>=x>=6)\n",
        "                                      else(40 if(125>=x>=80)\n",
        "                                          else 0)))))"
      ],
      "metadata": {
        "id": "1H4pxl-PtTc5"
      },
      "execution_count": 20,
      "outputs": []
    },
    {
      "cell_type": "code",
      "source": [
        "#calculation of electric conductivity\n",
        "data['nec']=data.co.apply(lambda x:(100 if(75>=x>=0)\n",
        "                                else(80 if(150>=x>=75)\n",
        "                                  else (60 if(225>=x>=150)\n",
        "                                      else(40 if(300>=x>=225)\n",
        "                                          else 0)))))"
      ],
      "metadata": {
        "id": "v-C-fzyxtU1U"
      },
      "execution_count": 21,
      "outputs": []
    },
    {
      "cell_type": "code",
      "source": [
        "#calculation of nitrate\n",
        "data['nna']=data.na.apply(lambda x:(100 if(20>=x>=0)\n",
        "                                else(80 if(50>=x>=20)\n",
        "                                  else (60 if(100>=x>=50)\n",
        "                                      else(40 if(200>=x>=100)\n",
        "                                          else 0)))))"
      ],
      "metadata": {
        "id": "jGbMOoOdtYJu"
      },
      "execution_count": 22,
      "outputs": []
    },
    {
      "cell_type": "code",
      "source": [
        "#Calculation of Water Quality Index WQI\n",
        "data['wph']=data.npH*0.165\n",
        "data['wdo']=data.ndo*0.281\n",
        "data['wbdo']=data.nbdo*0.234\n",
        "data['wec']=data.nec*0.009\n",
        "data['wna']=data.nna*0.028\n",
        "data['wco']=data.nco*0.281\n",
        "data['wqi']=data.wph+data.wdo+data.wbdo+data.wec+data.wna+data.wco\n",
        "data"
      ],
      "metadata": {
        "colab": {
          "base_uri": "https://localhost:8080/",
          "height": 554
        },
        "id": "Yjsln__2taA4",
        "outputId": "db193610-8326-4f36-8a50-4eb0b1c679b2"
      },
      "execution_count": 23,
      "outputs": [
        {
          "output_type": "execute_result",
          "data": {
            "text/plain": [
              "     station                                           location        state  \\\n",
              "0       1393               DAMANGANGA AT D/S OF MADHUBAN, DAMAN  DAMAN & DIU   \n",
              "1       1399  ZUARI AT D/S OF PT. WHERE KUMBARJRIA CANAL JOI...          GOA   \n",
              "2       1475                                ZUARI AT PANCHAWADI          GOA   \n",
              "3       3181                        RIVER ZUARI AT BORIM BRIDGE          GOA   \n",
              "4       3182                       RIVER ZUARI AT MARCAIM JETTY          GOA   \n",
              "...      ...                                                ...          ...   \n",
              "1986    1330            TAMBIRAPARANI AT ARUMUGANERI, TAMILNADU          NAN   \n",
              "1987    1450  PALAR AT VANIYAMBADI WATER SUPPLY HEAD WORK, T...          NAN   \n",
              "1988    1403                 GUMTI AT U/S SOUTH TRIPURA,TRIPURA          NAN   \n",
              "1989    1404                GUMTI AT D/S SOUTH TRIPURA, TRIPURA          NAN   \n",
              "1990    1726   CHANDRAPUR, AGARTALA D/S OF HAORA RIVER, TRIPURA          NAN   \n",
              "\n",
              "           Temp   do     ph     co       bod        na      tc  ...  nbdo  \\\n",
              "0     30.600000  6.7    7.5  203.0  6.940049  0.100000    27.0  ...    60   \n",
              "1     29.800000  5.7    7.2  189.0  2.000000  0.200000  8391.0  ...   100   \n",
              "2     29.500000  6.3    6.9  179.0  1.700000  0.100000  5330.0  ...   100   \n",
              "3     29.700000  5.8    6.9   64.0  3.800000  0.500000  8443.0  ...    80   \n",
              "4     29.500000  5.8    7.3   83.0  1.900000  0.400000  5500.0  ...   100   \n",
              "...         ...  ...    ...    ...       ...       ...     ...  ...   ...   \n",
              "1986  26.209814  7.9  738.0    7.2  2.700000  0.518000   202.0  ...   100   \n",
              "1987  29.000000  7.5  585.0    6.3  2.600000  0.155000   315.0  ...   100   \n",
              "1988  28.000000  7.6   98.0    6.2  1.200000  1.623079   570.0  ...   100   \n",
              "1989  28.000000  7.7   91.0    6.5  1.300000  1.623079   562.0  ...   100   \n",
              "1990  29.000000  7.6  110.0    5.7  1.100000  1.623079   546.0  ...   100   \n",
              "\n",
              "      nec  nna   wph    wdo   wbdo   wec  wna    wco    wqi  \n",
              "0      60  100  16.5  28.10  14.04  0.54  2.8  22.48  84.46  \n",
              "1      60  100  16.5  22.48  23.40  0.54  2.8  11.24  76.96  \n",
              "2      60  100  13.2  28.10  23.40  0.54  2.8  11.24  79.28  \n",
              "3     100  100  13.2  22.48  18.72  0.90  2.8  11.24  69.34  \n",
              "4      80  100  16.5  22.48  23.40  0.72  2.8  11.24  77.14  \n",
              "...   ...  ...   ...    ...    ...   ...  ...    ...    ...  \n",
              "1986  100  100   0.0  28.10  23.40  0.90  2.8  16.86  72.06  \n",
              "1987  100  100   0.0  28.10  23.40  0.90  2.8  16.86  72.06  \n",
              "1988  100  100   0.0  28.10  23.40  0.90  2.8  11.24  66.44  \n",
              "1989  100  100   0.0  28.10  23.40  0.90  2.8  11.24  66.44  \n",
              "1990  100  100   0.0  28.10  23.40  0.90  2.8  11.24  66.44  \n",
              "\n",
              "[1991 rows x 24 columns]"
            ],
            "text/html": [
              "\n",
              "  <div id=\"df-08f92a90-5632-4f4a-b566-bc1d3d3badc7\">\n",
              "    <div class=\"colab-df-container\">\n",
              "      <div>\n",
              "<style scoped>\n",
              "    .dataframe tbody tr th:only-of-type {\n",
              "        vertical-align: middle;\n",
              "    }\n",
              "\n",
              "    .dataframe tbody tr th {\n",
              "        vertical-align: top;\n",
              "    }\n",
              "\n",
              "    .dataframe thead th {\n",
              "        text-align: right;\n",
              "    }\n",
              "</style>\n",
              "<table border=\"1\" class=\"dataframe\">\n",
              "  <thead>\n",
              "    <tr style=\"text-align: right;\">\n",
              "      <th></th>\n",
              "      <th>station</th>\n",
              "      <th>location</th>\n",
              "      <th>state</th>\n",
              "      <th>Temp</th>\n",
              "      <th>do</th>\n",
              "      <th>ph</th>\n",
              "      <th>co</th>\n",
              "      <th>bod</th>\n",
              "      <th>na</th>\n",
              "      <th>tc</th>\n",
              "      <th>...</th>\n",
              "      <th>nbdo</th>\n",
              "      <th>nec</th>\n",
              "      <th>nna</th>\n",
              "      <th>wph</th>\n",
              "      <th>wdo</th>\n",
              "      <th>wbdo</th>\n",
              "      <th>wec</th>\n",
              "      <th>wna</th>\n",
              "      <th>wco</th>\n",
              "      <th>wqi</th>\n",
              "    </tr>\n",
              "  </thead>\n",
              "  <tbody>\n",
              "    <tr>\n",
              "      <th>0</th>\n",
              "      <td>1393</td>\n",
              "      <td>DAMANGANGA AT D/S OF MADHUBAN, DAMAN</td>\n",
              "      <td>DAMAN &amp; DIU</td>\n",
              "      <td>30.600000</td>\n",
              "      <td>6.7</td>\n",
              "      <td>7.5</td>\n",
              "      <td>203.0</td>\n",
              "      <td>6.940049</td>\n",
              "      <td>0.100000</td>\n",
              "      <td>27.0</td>\n",
              "      <td>...</td>\n",
              "      <td>60</td>\n",
              "      <td>60</td>\n",
              "      <td>100</td>\n",
              "      <td>16.5</td>\n",
              "      <td>28.10</td>\n",
              "      <td>14.04</td>\n",
              "      <td>0.54</td>\n",
              "      <td>2.8</td>\n",
              "      <td>22.48</td>\n",
              "      <td>84.46</td>\n",
              "    </tr>\n",
              "    <tr>\n",
              "      <th>1</th>\n",
              "      <td>1399</td>\n",
              "      <td>ZUARI AT D/S OF PT. WHERE KUMBARJRIA CANAL JOI...</td>\n",
              "      <td>GOA</td>\n",
              "      <td>29.800000</td>\n",
              "      <td>5.7</td>\n",
              "      <td>7.2</td>\n",
              "      <td>189.0</td>\n",
              "      <td>2.000000</td>\n",
              "      <td>0.200000</td>\n",
              "      <td>8391.0</td>\n",
              "      <td>...</td>\n",
              "      <td>100</td>\n",
              "      <td>60</td>\n",
              "      <td>100</td>\n",
              "      <td>16.5</td>\n",
              "      <td>22.48</td>\n",
              "      <td>23.40</td>\n",
              "      <td>0.54</td>\n",
              "      <td>2.8</td>\n",
              "      <td>11.24</td>\n",
              "      <td>76.96</td>\n",
              "    </tr>\n",
              "    <tr>\n",
              "      <th>2</th>\n",
              "      <td>1475</td>\n",
              "      <td>ZUARI AT PANCHAWADI</td>\n",
              "      <td>GOA</td>\n",
              "      <td>29.500000</td>\n",
              "      <td>6.3</td>\n",
              "      <td>6.9</td>\n",
              "      <td>179.0</td>\n",
              "      <td>1.700000</td>\n",
              "      <td>0.100000</td>\n",
              "      <td>5330.0</td>\n",
              "      <td>...</td>\n",
              "      <td>100</td>\n",
              "      <td>60</td>\n",
              "      <td>100</td>\n",
              "      <td>13.2</td>\n",
              "      <td>28.10</td>\n",
              "      <td>23.40</td>\n",
              "      <td>0.54</td>\n",
              "      <td>2.8</td>\n",
              "      <td>11.24</td>\n",
              "      <td>79.28</td>\n",
              "    </tr>\n",
              "    <tr>\n",
              "      <th>3</th>\n",
              "      <td>3181</td>\n",
              "      <td>RIVER ZUARI AT BORIM BRIDGE</td>\n",
              "      <td>GOA</td>\n",
              "      <td>29.700000</td>\n",
              "      <td>5.8</td>\n",
              "      <td>6.9</td>\n",
              "      <td>64.0</td>\n",
              "      <td>3.800000</td>\n",
              "      <td>0.500000</td>\n",
              "      <td>8443.0</td>\n",
              "      <td>...</td>\n",
              "      <td>80</td>\n",
              "      <td>100</td>\n",
              "      <td>100</td>\n",
              "      <td>13.2</td>\n",
              "      <td>22.48</td>\n",
              "      <td>18.72</td>\n",
              "      <td>0.90</td>\n",
              "      <td>2.8</td>\n",
              "      <td>11.24</td>\n",
              "      <td>69.34</td>\n",
              "    </tr>\n",
              "    <tr>\n",
              "      <th>4</th>\n",
              "      <td>3182</td>\n",
              "      <td>RIVER ZUARI AT MARCAIM JETTY</td>\n",
              "      <td>GOA</td>\n",
              "      <td>29.500000</td>\n",
              "      <td>5.8</td>\n",
              "      <td>7.3</td>\n",
              "      <td>83.0</td>\n",
              "      <td>1.900000</td>\n",
              "      <td>0.400000</td>\n",
              "      <td>5500.0</td>\n",
              "      <td>...</td>\n",
              "      <td>100</td>\n",
              "      <td>80</td>\n",
              "      <td>100</td>\n",
              "      <td>16.5</td>\n",
              "      <td>22.48</td>\n",
              "      <td>23.40</td>\n",
              "      <td>0.72</td>\n",
              "      <td>2.8</td>\n",
              "      <td>11.24</td>\n",
              "      <td>77.14</td>\n",
              "    </tr>\n",
              "    <tr>\n",
              "      <th>...</th>\n",
              "      <td>...</td>\n",
              "      <td>...</td>\n",
              "      <td>...</td>\n",
              "      <td>...</td>\n",
              "      <td>...</td>\n",
              "      <td>...</td>\n",
              "      <td>...</td>\n",
              "      <td>...</td>\n",
              "      <td>...</td>\n",
              "      <td>...</td>\n",
              "      <td>...</td>\n",
              "      <td>...</td>\n",
              "      <td>...</td>\n",
              "      <td>...</td>\n",
              "      <td>...</td>\n",
              "      <td>...</td>\n",
              "      <td>...</td>\n",
              "      <td>...</td>\n",
              "      <td>...</td>\n",
              "      <td>...</td>\n",
              "      <td>...</td>\n",
              "    </tr>\n",
              "    <tr>\n",
              "      <th>1986</th>\n",
              "      <td>1330</td>\n",
              "      <td>TAMBIRAPARANI AT ARUMUGANERI, TAMILNADU</td>\n",
              "      <td>NAN</td>\n",
              "      <td>26.209814</td>\n",
              "      <td>7.9</td>\n",
              "      <td>738.0</td>\n",
              "      <td>7.2</td>\n",
              "      <td>2.700000</td>\n",
              "      <td>0.518000</td>\n",
              "      <td>202.0</td>\n",
              "      <td>...</td>\n",
              "      <td>100</td>\n",
              "      <td>100</td>\n",
              "      <td>100</td>\n",
              "      <td>0.0</td>\n",
              "      <td>28.10</td>\n",
              "      <td>23.40</td>\n",
              "      <td>0.90</td>\n",
              "      <td>2.8</td>\n",
              "      <td>16.86</td>\n",
              "      <td>72.06</td>\n",
              "    </tr>\n",
              "    <tr>\n",
              "      <th>1987</th>\n",
              "      <td>1450</td>\n",
              "      <td>PALAR AT VANIYAMBADI WATER SUPPLY HEAD WORK, T...</td>\n",
              "      <td>NAN</td>\n",
              "      <td>29.000000</td>\n",
              "      <td>7.5</td>\n",
              "      <td>585.0</td>\n",
              "      <td>6.3</td>\n",
              "      <td>2.600000</td>\n",
              "      <td>0.155000</td>\n",
              "      <td>315.0</td>\n",
              "      <td>...</td>\n",
              "      <td>100</td>\n",
              "      <td>100</td>\n",
              "      <td>100</td>\n",
              "      <td>0.0</td>\n",
              "      <td>28.10</td>\n",
              "      <td>23.40</td>\n",
              "      <td>0.90</td>\n",
              "      <td>2.8</td>\n",
              "      <td>16.86</td>\n",
              "      <td>72.06</td>\n",
              "    </tr>\n",
              "    <tr>\n",
              "      <th>1988</th>\n",
              "      <td>1403</td>\n",
              "      <td>GUMTI AT U/S SOUTH TRIPURA,TRIPURA</td>\n",
              "      <td>NAN</td>\n",
              "      <td>28.000000</td>\n",
              "      <td>7.6</td>\n",
              "      <td>98.0</td>\n",
              "      <td>6.2</td>\n",
              "      <td>1.200000</td>\n",
              "      <td>1.623079</td>\n",
              "      <td>570.0</td>\n",
              "      <td>...</td>\n",
              "      <td>100</td>\n",
              "      <td>100</td>\n",
              "      <td>100</td>\n",
              "      <td>0.0</td>\n",
              "      <td>28.10</td>\n",
              "      <td>23.40</td>\n",
              "      <td>0.90</td>\n",
              "      <td>2.8</td>\n",
              "      <td>11.24</td>\n",
              "      <td>66.44</td>\n",
              "    </tr>\n",
              "    <tr>\n",
              "      <th>1989</th>\n",
              "      <td>1404</td>\n",
              "      <td>GUMTI AT D/S SOUTH TRIPURA, TRIPURA</td>\n",
              "      <td>NAN</td>\n",
              "      <td>28.000000</td>\n",
              "      <td>7.7</td>\n",
              "      <td>91.0</td>\n",
              "      <td>6.5</td>\n",
              "      <td>1.300000</td>\n",
              "      <td>1.623079</td>\n",
              "      <td>562.0</td>\n",
              "      <td>...</td>\n",
              "      <td>100</td>\n",
              "      <td>100</td>\n",
              "      <td>100</td>\n",
              "      <td>0.0</td>\n",
              "      <td>28.10</td>\n",
              "      <td>23.40</td>\n",
              "      <td>0.90</td>\n",
              "      <td>2.8</td>\n",
              "      <td>11.24</td>\n",
              "      <td>66.44</td>\n",
              "    </tr>\n",
              "    <tr>\n",
              "      <th>1990</th>\n",
              "      <td>1726</td>\n",
              "      <td>CHANDRAPUR, AGARTALA D/S OF HAORA RIVER, TRIPURA</td>\n",
              "      <td>NAN</td>\n",
              "      <td>29.000000</td>\n",
              "      <td>7.6</td>\n",
              "      <td>110.0</td>\n",
              "      <td>5.7</td>\n",
              "      <td>1.100000</td>\n",
              "      <td>1.623079</td>\n",
              "      <td>546.0</td>\n",
              "      <td>...</td>\n",
              "      <td>100</td>\n",
              "      <td>100</td>\n",
              "      <td>100</td>\n",
              "      <td>0.0</td>\n",
              "      <td>28.10</td>\n",
              "      <td>23.40</td>\n",
              "      <td>0.90</td>\n",
              "      <td>2.8</td>\n",
              "      <td>11.24</td>\n",
              "      <td>66.44</td>\n",
              "    </tr>\n",
              "  </tbody>\n",
              "</table>\n",
              "<p>1991 rows × 24 columns</p>\n",
              "</div>\n",
              "      <button class=\"colab-df-convert\" onclick=\"convertToInteractive('df-08f92a90-5632-4f4a-b566-bc1d3d3badc7')\"\n",
              "              title=\"Convert this dataframe to an interactive table.\"\n",
              "              style=\"display:none;\">\n",
              "        \n",
              "  <svg xmlns=\"http://www.w3.org/2000/svg\" height=\"24px\"viewBox=\"0 0 24 24\"\n",
              "       width=\"24px\">\n",
              "    <path d=\"M0 0h24v24H0V0z\" fill=\"none\"/>\n",
              "    <path d=\"M18.56 5.44l.94 2.06.94-2.06 2.06-.94-2.06-.94-.94-2.06-.94 2.06-2.06.94zm-11 1L8.5 8.5l.94-2.06 2.06-.94-2.06-.94L8.5 2.5l-.94 2.06-2.06.94zm10 10l.94 2.06.94-2.06 2.06-.94-2.06-.94-.94-2.06-.94 2.06-2.06.94z\"/><path d=\"M17.41 7.96l-1.37-1.37c-.4-.4-.92-.59-1.43-.59-.52 0-1.04.2-1.43.59L10.3 9.45l-7.72 7.72c-.78.78-.78 2.05 0 2.83L4 21.41c.39.39.9.59 1.41.59.51 0 1.02-.2 1.41-.59l7.78-7.78 2.81-2.81c.8-.78.8-2.07 0-2.86zM5.41 20L4 18.59l7.72-7.72 1.47 1.35L5.41 20z\"/>\n",
              "  </svg>\n",
              "      </button>\n",
              "      \n",
              "  <style>\n",
              "    .colab-df-container {\n",
              "      display:flex;\n",
              "      flex-wrap:wrap;\n",
              "      gap: 12px;\n",
              "    }\n",
              "\n",
              "    .colab-df-convert {\n",
              "      background-color: #E8F0FE;\n",
              "      border: none;\n",
              "      border-radius: 50%;\n",
              "      cursor: pointer;\n",
              "      display: none;\n",
              "      fill: #1967D2;\n",
              "      height: 32px;\n",
              "      padding: 0 0 0 0;\n",
              "      width: 32px;\n",
              "    }\n",
              "\n",
              "    .colab-df-convert:hover {\n",
              "      background-color: #E2EBFA;\n",
              "      box-shadow: 0px 1px 2px rgba(60, 64, 67, 0.3), 0px 1px 3px 1px rgba(60, 64, 67, 0.15);\n",
              "      fill: #174EA6;\n",
              "    }\n",
              "\n",
              "    [theme=dark] .colab-df-convert {\n",
              "      background-color: #3B4455;\n",
              "      fill: #D2E3FC;\n",
              "    }\n",
              "\n",
              "    [theme=dark] .colab-df-convert:hover {\n",
              "      background-color: #434B5C;\n",
              "      box-shadow: 0px 1px 3px 1px rgba(0, 0, 0, 0.15);\n",
              "      filter: drop-shadow(0px 1px 2px rgba(0, 0, 0, 0.3));\n",
              "      fill: #FFFFFF;\n",
              "    }\n",
              "  </style>\n",
              "\n",
              "      <script>\n",
              "        const buttonEl =\n",
              "          document.querySelector('#df-08f92a90-5632-4f4a-b566-bc1d3d3badc7 button.colab-df-convert');\n",
              "        buttonEl.style.display =\n",
              "          google.colab.kernel.accessAllowed ? 'block' : 'none';\n",
              "\n",
              "        async function convertToInteractive(key) {\n",
              "          const element = document.querySelector('#df-08f92a90-5632-4f4a-b566-bc1d3d3badc7');\n",
              "          const dataTable =\n",
              "            await google.colab.kernel.invokeFunction('convertToInteractive',\n",
              "                                                     [key], {});\n",
              "          if (!dataTable) return;\n",
              "\n",
              "          const docLinkHtml = 'Like what you see? Visit the ' +\n",
              "            '<a target=\"_blank\" href=https://colab.research.google.com/notebooks/data_table.ipynb>data table notebook</a>'\n",
              "            + ' to learn more about interactive tables.';\n",
              "          element.innerHTML = '';\n",
              "          dataTable['output_type'] = 'display_data';\n",
              "          await google.colab.output.renderOutput(dataTable, element);\n",
              "          const docLink = document.createElement('div');\n",
              "          docLink.innerHTML = docLinkHtml;\n",
              "          element.appendChild(docLink);\n",
              "        }\n",
              "      </script>\n",
              "    </div>\n",
              "  </div>\n",
              "  "
            ]
          },
          "metadata": {},
          "execution_count": 23
        }
      ]
    },
    {
      "cell_type": "code",
      "source": [
        "#Calculation of overall WQI for each year\n",
        "average = data.groupby('year')['wqi'].mean()\n",
        "average.head()"
      ],
      "metadata": {
        "colab": {
          "base_uri": "https://localhost:8080/"
        },
        "id": "inC9H-y2tcrJ",
        "outputId": "75c71ff6-67e2-46d9-e0e5-1d11fbb788ad"
      },
      "execution_count": 24,
      "outputs": [
        {
          "output_type": "execute_result",
          "data": {
            "text/plain": [
              "year\n",
              "2003    66.239545\n",
              "2004    61.290000\n",
              "2005    73.762689\n",
              "2006    72.909714\n",
              "2007    74.233000\n",
              "Name: wqi, dtype: float64"
            ]
          },
          "metadata": {},
          "execution_count": 24
        }
      ]
    },
    {
      "cell_type": "markdown",
      "source": [
        "Splitting Dependent and Independent Columns"
      ],
      "metadata": {
        "id": "pcnqpAp8te_L"
      }
    },
    {
      "cell_type": "code",
      "source": [
        "data.head()\n",
        "data.drop(['location','station','state'],axis =1,inplace=True)"
      ],
      "metadata": {
        "id": "N2yj60RDtfh2"
      },
      "execution_count": 25,
      "outputs": []
    },
    {
      "cell_type": "code",
      "source": [
        "data.head()"
      ],
      "metadata": {
        "colab": {
          "base_uri": "https://localhost:8080/",
          "height": 235
        },
        "id": "M59YAd_cticl",
        "outputId": "b421d32a-9aaf-49dc-8a59-845e7f330603"
      },
      "execution_count": 26,
      "outputs": [
        {
          "output_type": "execute_result",
          "data": {
            "text/plain": [
              "   Temp   do   ph     co       bod   na      tc  year  npH  ndo  ...  nbdo  \\\n",
              "0  30.6  6.7  7.5  203.0  6.940049  0.1    27.0  2014  100  100  ...    60   \n",
              "1  29.8  5.7  7.2  189.0  2.000000  0.2  8391.0  2014  100   80  ...   100   \n",
              "2  29.5  6.3  6.9  179.0  1.700000  0.1  5330.0  2014   80  100  ...   100   \n",
              "3  29.7  5.8  6.9   64.0  3.800000  0.5  8443.0  2014   80   80  ...    80   \n",
              "4  29.5  5.8  7.3   83.0  1.900000  0.4  5500.0  2014  100   80  ...   100   \n",
              "\n",
              "   nec  nna   wph    wdo   wbdo   wec  wna    wco    wqi  \n",
              "0   60  100  16.5  28.10  14.04  0.54  2.8  22.48  84.46  \n",
              "1   60  100  16.5  22.48  23.40  0.54  2.8  11.24  76.96  \n",
              "2   60  100  13.2  28.10  23.40  0.54  2.8  11.24  79.28  \n",
              "3  100  100  13.2  22.48  18.72  0.90  2.8  11.24  69.34  \n",
              "4   80  100  16.5  22.48  23.40  0.72  2.8  11.24  77.14  \n",
              "\n",
              "[5 rows x 21 columns]"
            ],
            "text/html": [
              "\n",
              "  <div id=\"df-67d948e7-291e-48a6-9359-1471f97dd6bb\">\n",
              "    <div class=\"colab-df-container\">\n",
              "      <div>\n",
              "<style scoped>\n",
              "    .dataframe tbody tr th:only-of-type {\n",
              "        vertical-align: middle;\n",
              "    }\n",
              "\n",
              "    .dataframe tbody tr th {\n",
              "        vertical-align: top;\n",
              "    }\n",
              "\n",
              "    .dataframe thead th {\n",
              "        text-align: right;\n",
              "    }\n",
              "</style>\n",
              "<table border=\"1\" class=\"dataframe\">\n",
              "  <thead>\n",
              "    <tr style=\"text-align: right;\">\n",
              "      <th></th>\n",
              "      <th>Temp</th>\n",
              "      <th>do</th>\n",
              "      <th>ph</th>\n",
              "      <th>co</th>\n",
              "      <th>bod</th>\n",
              "      <th>na</th>\n",
              "      <th>tc</th>\n",
              "      <th>year</th>\n",
              "      <th>npH</th>\n",
              "      <th>ndo</th>\n",
              "      <th>...</th>\n",
              "      <th>nbdo</th>\n",
              "      <th>nec</th>\n",
              "      <th>nna</th>\n",
              "      <th>wph</th>\n",
              "      <th>wdo</th>\n",
              "      <th>wbdo</th>\n",
              "      <th>wec</th>\n",
              "      <th>wna</th>\n",
              "      <th>wco</th>\n",
              "      <th>wqi</th>\n",
              "    </tr>\n",
              "  </thead>\n",
              "  <tbody>\n",
              "    <tr>\n",
              "      <th>0</th>\n",
              "      <td>30.6</td>\n",
              "      <td>6.7</td>\n",
              "      <td>7.5</td>\n",
              "      <td>203.0</td>\n",
              "      <td>6.940049</td>\n",
              "      <td>0.1</td>\n",
              "      <td>27.0</td>\n",
              "      <td>2014</td>\n",
              "      <td>100</td>\n",
              "      <td>100</td>\n",
              "      <td>...</td>\n",
              "      <td>60</td>\n",
              "      <td>60</td>\n",
              "      <td>100</td>\n",
              "      <td>16.5</td>\n",
              "      <td>28.10</td>\n",
              "      <td>14.04</td>\n",
              "      <td>0.54</td>\n",
              "      <td>2.8</td>\n",
              "      <td>22.48</td>\n",
              "      <td>84.46</td>\n",
              "    </tr>\n",
              "    <tr>\n",
              "      <th>1</th>\n",
              "      <td>29.8</td>\n",
              "      <td>5.7</td>\n",
              "      <td>7.2</td>\n",
              "      <td>189.0</td>\n",
              "      <td>2.000000</td>\n",
              "      <td>0.2</td>\n",
              "      <td>8391.0</td>\n",
              "      <td>2014</td>\n",
              "      <td>100</td>\n",
              "      <td>80</td>\n",
              "      <td>...</td>\n",
              "      <td>100</td>\n",
              "      <td>60</td>\n",
              "      <td>100</td>\n",
              "      <td>16.5</td>\n",
              "      <td>22.48</td>\n",
              "      <td>23.40</td>\n",
              "      <td>0.54</td>\n",
              "      <td>2.8</td>\n",
              "      <td>11.24</td>\n",
              "      <td>76.96</td>\n",
              "    </tr>\n",
              "    <tr>\n",
              "      <th>2</th>\n",
              "      <td>29.5</td>\n",
              "      <td>6.3</td>\n",
              "      <td>6.9</td>\n",
              "      <td>179.0</td>\n",
              "      <td>1.700000</td>\n",
              "      <td>0.1</td>\n",
              "      <td>5330.0</td>\n",
              "      <td>2014</td>\n",
              "      <td>80</td>\n",
              "      <td>100</td>\n",
              "      <td>...</td>\n",
              "      <td>100</td>\n",
              "      <td>60</td>\n",
              "      <td>100</td>\n",
              "      <td>13.2</td>\n",
              "      <td>28.10</td>\n",
              "      <td>23.40</td>\n",
              "      <td>0.54</td>\n",
              "      <td>2.8</td>\n",
              "      <td>11.24</td>\n",
              "      <td>79.28</td>\n",
              "    </tr>\n",
              "    <tr>\n",
              "      <th>3</th>\n",
              "      <td>29.7</td>\n",
              "      <td>5.8</td>\n",
              "      <td>6.9</td>\n",
              "      <td>64.0</td>\n",
              "      <td>3.800000</td>\n",
              "      <td>0.5</td>\n",
              "      <td>8443.0</td>\n",
              "      <td>2014</td>\n",
              "      <td>80</td>\n",
              "      <td>80</td>\n",
              "      <td>...</td>\n",
              "      <td>80</td>\n",
              "      <td>100</td>\n",
              "      <td>100</td>\n",
              "      <td>13.2</td>\n",
              "      <td>22.48</td>\n",
              "      <td>18.72</td>\n",
              "      <td>0.90</td>\n",
              "      <td>2.8</td>\n",
              "      <td>11.24</td>\n",
              "      <td>69.34</td>\n",
              "    </tr>\n",
              "    <tr>\n",
              "      <th>4</th>\n",
              "      <td>29.5</td>\n",
              "      <td>5.8</td>\n",
              "      <td>7.3</td>\n",
              "      <td>83.0</td>\n",
              "      <td>1.900000</td>\n",
              "      <td>0.4</td>\n",
              "      <td>5500.0</td>\n",
              "      <td>2014</td>\n",
              "      <td>100</td>\n",
              "      <td>80</td>\n",
              "      <td>...</td>\n",
              "      <td>100</td>\n",
              "      <td>80</td>\n",
              "      <td>100</td>\n",
              "      <td>16.5</td>\n",
              "      <td>22.48</td>\n",
              "      <td>23.40</td>\n",
              "      <td>0.72</td>\n",
              "      <td>2.8</td>\n",
              "      <td>11.24</td>\n",
              "      <td>77.14</td>\n",
              "    </tr>\n",
              "  </tbody>\n",
              "</table>\n",
              "<p>5 rows × 21 columns</p>\n",
              "</div>\n",
              "      <button class=\"colab-df-convert\" onclick=\"convertToInteractive('df-67d948e7-291e-48a6-9359-1471f97dd6bb')\"\n",
              "              title=\"Convert this dataframe to an interactive table.\"\n",
              "              style=\"display:none;\">\n",
              "        \n",
              "  <svg xmlns=\"http://www.w3.org/2000/svg\" height=\"24px\"viewBox=\"0 0 24 24\"\n",
              "       width=\"24px\">\n",
              "    <path d=\"M0 0h24v24H0V0z\" fill=\"none\"/>\n",
              "    <path d=\"M18.56 5.44l.94 2.06.94-2.06 2.06-.94-2.06-.94-.94-2.06-.94 2.06-2.06.94zm-11 1L8.5 8.5l.94-2.06 2.06-.94-2.06-.94L8.5 2.5l-.94 2.06-2.06.94zm10 10l.94 2.06.94-2.06 2.06-.94-2.06-.94-.94-2.06-.94 2.06-2.06.94z\"/><path d=\"M17.41 7.96l-1.37-1.37c-.4-.4-.92-.59-1.43-.59-.52 0-1.04.2-1.43.59L10.3 9.45l-7.72 7.72c-.78.78-.78 2.05 0 2.83L4 21.41c.39.39.9.59 1.41.59.51 0 1.02-.2 1.41-.59l7.78-7.78 2.81-2.81c.8-.78.8-2.07 0-2.86zM5.41 20L4 18.59l7.72-7.72 1.47 1.35L5.41 20z\"/>\n",
              "  </svg>\n",
              "      </button>\n",
              "      \n",
              "  <style>\n",
              "    .colab-df-container {\n",
              "      display:flex;\n",
              "      flex-wrap:wrap;\n",
              "      gap: 12px;\n",
              "    }\n",
              "\n",
              "    .colab-df-convert {\n",
              "      background-color: #E8F0FE;\n",
              "      border: none;\n",
              "      border-radius: 50%;\n",
              "      cursor: pointer;\n",
              "      display: none;\n",
              "      fill: #1967D2;\n",
              "      height: 32px;\n",
              "      padding: 0 0 0 0;\n",
              "      width: 32px;\n",
              "    }\n",
              "\n",
              "    .colab-df-convert:hover {\n",
              "      background-color: #E2EBFA;\n",
              "      box-shadow: 0px 1px 2px rgba(60, 64, 67, 0.3), 0px 1px 3px 1px rgba(60, 64, 67, 0.15);\n",
              "      fill: #174EA6;\n",
              "    }\n",
              "\n",
              "    [theme=dark] .colab-df-convert {\n",
              "      background-color: #3B4455;\n",
              "      fill: #D2E3FC;\n",
              "    }\n",
              "\n",
              "    [theme=dark] .colab-df-convert:hover {\n",
              "      background-color: #434B5C;\n",
              "      box-shadow: 0px 1px 3px 1px rgba(0, 0, 0, 0.15);\n",
              "      filter: drop-shadow(0px 1px 2px rgba(0, 0, 0, 0.3));\n",
              "      fill: #FFFFFF;\n",
              "    }\n",
              "  </style>\n",
              "\n",
              "      <script>\n",
              "        const buttonEl =\n",
              "          document.querySelector('#df-67d948e7-291e-48a6-9359-1471f97dd6bb button.colab-df-convert');\n",
              "        buttonEl.style.display =\n",
              "          google.colab.kernel.accessAllowed ? 'block' : 'none';\n",
              "\n",
              "        async function convertToInteractive(key) {\n",
              "          const element = document.querySelector('#df-67d948e7-291e-48a6-9359-1471f97dd6bb');\n",
              "          const dataTable =\n",
              "            await google.colab.kernel.invokeFunction('convertToInteractive',\n",
              "                                                     [key], {});\n",
              "          if (!dataTable) return;\n",
              "\n",
              "          const docLinkHtml = 'Like what you see? Visit the ' +\n",
              "            '<a target=\"_blank\" href=https://colab.research.google.com/notebooks/data_table.ipynb>data table notebook</a>'\n",
              "            + ' to learn more about interactive tables.';\n",
              "          element.innerHTML = '';\n",
              "          dataTable['output_type'] = 'display_data';\n",
              "          await google.colab.output.renderOutput(dataTable, element);\n",
              "          const docLink = document.createElement('div');\n",
              "          docLink.innerHTML = docLinkHtml;\n",
              "          element.appendChild(docLink);\n",
              "        }\n",
              "      </script>\n",
              "    </div>\n",
              "  </div>\n",
              "  "
            ]
          },
          "metadata": {},
          "execution_count": 26
        }
      ]
    },
    {
      "cell_type": "code",
      "source": [
        "x=data.iloc[:,1:7].values"
      ],
      "metadata": {
        "id": "rIGFXY-_tl0S"
      },
      "execution_count": 27,
      "outputs": []
    },
    {
      "cell_type": "code",
      "source": [
        "x.shape"
      ],
      "metadata": {
        "colab": {
          "base_uri": "https://localhost:8080/"
        },
        "id": "HAJy0IdQtnaR",
        "outputId": "e917fe5a-cd23-466c-c940-98e8d7bf2854"
      },
      "execution_count": 28,
      "outputs": [
        {
          "output_type": "execute_result",
          "data": {
            "text/plain": [
              "(1991, 6)"
            ]
          },
          "metadata": {},
          "execution_count": 28
        }
      ]
    },
    {
      "cell_type": "code",
      "source": [
        "y=data.iloc[:,-1:].values\n",
        "y.shape"
      ],
      "metadata": {
        "colab": {
          "base_uri": "https://localhost:8080/"
        },
        "id": "EaAgmJTgtpgw",
        "outputId": "4cae7933-ae98-43e6-aac9-539be4740f1c"
      },
      "execution_count": 29,
      "outputs": [
        {
          "output_type": "execute_result",
          "data": {
            "text/plain": [
              "(1991, 1)"
            ]
          },
          "metadata": {},
          "execution_count": 29
        }
      ]
    },
    {
      "cell_type": "code",
      "source": [
        "print(x)"
      ],
      "metadata": {
        "colab": {
          "base_uri": "https://localhost:8080/"
        },
        "id": "iWK5S1lltsCM",
        "outputId": "36359728-5207-4f5e-e885-96ec80c4463f"
      },
      "execution_count": 30,
      "outputs": [
        {
          "output_type": "stream",
          "name": "stdout",
          "text": [
            "[[6.70000000e+00 7.50000000e+00 2.03000000e+02 6.94004877e+00\n",
            "  1.00000000e-01 2.70000000e+01]\n",
            " [5.70000000e+00 7.20000000e+00 1.89000000e+02 2.00000000e+00\n",
            "  2.00000000e-01 8.39100000e+03]\n",
            " [6.30000000e+00 6.90000000e+00 1.79000000e+02 1.70000000e+00\n",
            "  1.00000000e-01 5.33000000e+03]\n",
            " ...\n",
            " [7.60000000e+00 9.80000000e+01 6.20000000e+00 1.20000000e+00\n",
            "  1.62307871e+00 5.70000000e+02]\n",
            " [7.70000000e+00 9.10000000e+01 6.50000000e+00 1.30000000e+00\n",
            "  1.62307871e+00 5.62000000e+02]\n",
            " [7.60000000e+00 1.10000000e+02 5.70000000e+00 1.10000000e+00\n",
            "  1.62307871e+00 5.46000000e+02]]\n"
          ]
        }
      ]
    },
    {
      "cell_type": "code",
      "source": [
        "print(y)"
      ],
      "metadata": {
        "colab": {
          "base_uri": "https://localhost:8080/"
        },
        "id": "vJOJ6KkvtuE2",
        "outputId": "eb9901fa-200f-4bcb-8bac-2b9ac077dec2"
      },
      "execution_count": 31,
      "outputs": [
        {
          "output_type": "stream",
          "name": "stdout",
          "text": [
            "[[84.46]\n",
            " [76.96]\n",
            " [79.28]\n",
            " ...\n",
            " [66.44]\n",
            " [66.44]\n",
            " [66.44]]\n"
          ]
        }
      ]
    },
    {
      "cell_type": "markdown",
      "source": [
        "Splitting the Data Into Train and Test"
      ],
      "metadata": {
        "id": "2SeJ6fPGtwPw"
      }
    },
    {
      "cell_type": "code",
      "source": [
        "from sklearn.model_selection import train_test_split\n",
        "x_train,x_test,y_train,y_test = train_test_split(x,y,test_size = 0.2,random_state=10)"
      ],
      "metadata": {
        "id": "Qlao_7_7txYi"
      },
      "execution_count": 32,
      "outputs": []
    },
    {
      "cell_type": "markdown",
      "source": [
        "Random_Forest_Regression"
      ],
      "metadata": {
        "id": "EbXR-4hLt0ku"
      }
    },
    {
      "cell_type": "code",
      "source": [
        "#Feature Scaling\n",
        "from sklearn.preprocessing import StandardScaler\n",
        "sc = StandardScaler()\n",
        "x_train = sc.fit_transform(x_train)\n",
        "x_test = sc.transform(x_test)"
      ],
      "metadata": {
        "id": "40Zcnlcut1DO"
      },
      "execution_count": 33,
      "outputs": []
    },
    {
      "cell_type": "code",
      "source": [
        "from sklearn.ensemble import RandomForestRegressor\n",
        "regressor = RandomForestRegressor(n_estimators = 10, random_state = 0)\n",
        "regressor.fit(x_train, y_train)\n",
        "y_pred = regressor.predict(x_test)"
      ],
      "metadata": {
        "colab": {
          "base_uri": "https://localhost:8080/"
        },
        "id": "ZO7EZbMUt31V",
        "outputId": "a07bd3bf-0827-4d65-9aa6-0e8a5b1845f2"
      },
      "execution_count": 34,
      "outputs": [
        {
          "output_type": "stream",
          "name": "stderr",
          "text": [
            "/usr/local/lib/python3.7/dist-packages/ipykernel_launcher.py:3: DataConversionWarning: A column-vector y was passed when a 1d array was expected. Please change the shape of y to (n_samples,), for example using ravel().\n",
            "  This is separate from the ipykernel package so we can avoid doing imports until\n"
          ]
        }
      ]
    },
    {
      "cell_type": "markdown",
      "source": [
        "Model Evaluation"
      ],
      "metadata": {
        "id": "QdKarpM-t8Mg"
      }
    },
    {
      "cell_type": "code",
      "source": [
        "from sklearn import metrics\n",
        "print('MAE:',metrics.mean_absolute_error(y_test,y_pred))\n",
        "print('MSE:',metrics.mean_squared_error(y_test,y_pred))\n",
        "print('RMSE:',np.sqrt(metrics.mean_squared_error(y_test,y_pred)))"
      ],
      "metadata": {
        "colab": {
          "base_uri": "https://localhost:8080/"
        },
        "id": "sEhIs670t8rX",
        "outputId": "43307a48-42ae-4652-cb1c-9224b5a5b665"
      },
      "execution_count": 35,
      "outputs": [
        {
          "output_type": "stream",
          "name": "stdout",
          "text": [
            "MAE: 0.9872080200501312\n",
            "MSE: 5.555095879699248\n",
            "RMSE: 2.3569250899634566\n"
          ]
        }
      ]
    },
    {
      "cell_type": "code",
      "source": [
        "#accuracy of the model\n",
        "metrics.r2_score(y_test, y_pred)"
      ],
      "metadata": {
        "colab": {
          "base_uri": "https://localhost:8080/"
        },
        "id": "GKO3ow4It_48",
        "outputId": "ca07e9ba-5304-4645-b186-4cf655a822b0"
      },
      "execution_count": 36,
      "outputs": [
        {
          "output_type": "execute_result",
          "data": {
            "text/plain": [
              "0.96971918125809"
            ]
          },
          "metadata": {},
          "execution_count": 36
        }
      ]
    },
    {
      "cell_type": "markdown",
      "source": [
        "Save The Model"
      ],
      "metadata": {
        "id": "iSRkh4CsuBkv"
      }
    },
    {
      "cell_type": "code",
      "source": [
        "import pickle\n",
        "pickle.dump(regressor,open('wqi.pkl', 'wb'))\n",
        "model = pickle.load(open('wqi.pkl','rb'))"
      ],
      "metadata": {
        "id": "eAwVMbV1uCS2"
      },
      "execution_count": 37,
      "outputs": []
    }
  ]
}