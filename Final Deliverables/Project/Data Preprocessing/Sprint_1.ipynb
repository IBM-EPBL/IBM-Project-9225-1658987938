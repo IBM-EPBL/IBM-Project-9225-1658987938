{
  "nbformat": 4,
  "nbformat_minor": 0,
  "metadata": {
    "colab": {
      "provenance": [],
      "collapsed_sections": []
    },
    "kernelspec": {
      "name": "python3",
      "display_name": "Python 3"
    },
    "language_info": {
      "name": "python"
    }
  },
  "cells": [
    {
      "cell_type": "markdown",
      "source": [
        "IMPORTING LIBRARIES"
      ],
      "metadata": {
        "id": "S2c3XLcac2x6"
      }
    },
    {
      "cell_type": "code",
      "execution_count": 1,
      "metadata": {
        "id": "ePIPY-Wmc0Ui"
      },
      "outputs": [],
      "source": [
        "import numpy as np\n",
        "import pandas as pd\n",
        "import seaborn as sns\n",
        "import matplotlib.pyplot as plt\n",
        "import warnings"
      ]
    },
    {
      "cell_type": "markdown",
      "source": [
        "READING DATASET"
      ],
      "metadata": {
        "id": "1hl-whxVc58w"
      }
    },
    {
      "cell_type": "code",
      "source": [
        "from google.colab import drive \n",
        "drive.mount('/content/drive')"
      ],
      "metadata": {
        "colab": {
          "base_uri": "https://localhost:8080/"
        },
        "id": "D5_d1sOOdJCn",
        "outputId": "278671e1-c6ed-4fb8-df60-a3c8c1cd1769"
      },
      "execution_count": 2,
      "outputs": [
        {
          "output_type": "stream",
          "name": "stdout",
          "text": [
            "Mounted at /content/drive\n"
          ]
        }
      ]
    },
    {
      "cell_type": "code",
      "source": [
        "data=pd.read_csv('/content/drive/My Drive/water_dataX.csv',encoding='ISO-8859-1',low_memory=False)"
      ],
      "metadata": {
        "id": "xZx2x_BAdxyr"
      },
      "execution_count": 3,
      "outputs": []
    },
    {
      "cell_type": "markdown",
      "source": [
        "ANALYSE THE DATA"
      ],
      "metadata": {
        "id": "jceJOK2SdGAV"
      }
    },
    {
      "cell_type": "code",
      "source": [
        "data.shape"
      ],
      "metadata": {
        "colab": {
          "base_uri": "https://localhost:8080/"
        },
        "id": "eFhzpz4eeQ4X",
        "outputId": "fd371fe8-7fba-4129-c87a-86ccf676c940"
      },
      "execution_count": 4,
      "outputs": [
        {
          "output_type": "execute_result",
          "data": {
            "text/plain": [
              "(1991, 12)"
            ]
          },
          "metadata": {},
          "execution_count": 4
        }
      ]
    },
    {
      "cell_type": "code",
      "source": [
        "data.head"
      ],
      "metadata": {
        "colab": {
          "base_uri": "https://localhost:8080/"
        },
        "id": "XUQK2UCNeXHj",
        "outputId": "4f596448-b7c7-4339-d741-7a7bcae2a582"
      },
      "execution_count": 5,
      "outputs": [
        {
          "output_type": "execute_result",
          "data": {
            "text/plain": [
              "<bound method NDFrame.head of      STATION CODE                                          LOCATIONS  \\\n",
              "0            1393               DAMANGANGA AT D/S OF MADHUBAN, DAMAN   \n",
              "1            1399  ZUARI AT D/S OF PT. WHERE KUMBARJRIA CANAL JOI...   \n",
              "2            1475                                ZUARI AT PANCHAWADI   \n",
              "3            3181                        RIVER ZUARI AT BORIM BRIDGE   \n",
              "4            3182                       RIVER ZUARI AT MARCAIM JETTY   \n",
              "...           ...                                                ...   \n",
              "1986         1330            TAMBIRAPARANI AT ARUMUGANERI, TAMILNADU   \n",
              "1987         1450  PALAR AT VANIYAMBADI WATER SUPPLY HEAD WORK, T...   \n",
              "1988         1403                 GUMTI AT U/S SOUTH TRIPURA,TRIPURA   \n",
              "1989         1404                GUMTI AT D/S SOUTH TRIPURA, TRIPURA   \n",
              "1990         1726   CHANDRAPUR, AGARTALA D/S OF HAORA RIVER, TRIPURA   \n",
              "\n",
              "            STATE  Temp D.O. (mg/l)   PH CONDUCTIVITY (µmhos/cm)  \\\n",
              "0     DAMAN & DIU  30.6         6.7  7.5                     203   \n",
              "1             GOA  29.8         5.7  7.2                     189   \n",
              "2             GOA  29.5         6.3  6.9                     179   \n",
              "3             GOA  29.7         5.8  6.9                      64   \n",
              "4             GOA  29.5         5.8  7.3                      83   \n",
              "...           ...   ...         ...  ...                     ...   \n",
              "1986          NAN   NAN         7.9  738                     7.2   \n",
              "1987          NAN    29         7.5  585                     6.3   \n",
              "1988          NAN    28         7.6   98                     6.2   \n",
              "1989          NAN    28         7.7   91                     6.5   \n",
              "1990          NAN    29         7.6  110                     5.7   \n",
              "\n",
              "     B.O.D. (mg/l) NITRATENAN N+ NITRITENANN (mg/l)  \\\n",
              "0              NAN                              0.1   \n",
              "1                2                              0.2   \n",
              "2              1.7                              0.1   \n",
              "3              3.8                              0.5   \n",
              "4              1.9                              0.4   \n",
              "...            ...                              ...   \n",
              "1986           2.7                            0.518   \n",
              "1987           2.6                            0.155   \n",
              "1988           1.2                              NAN   \n",
              "1989           1.3                              NAN   \n",
              "1990           1.1                              NAN   \n",
              "\n",
              "     FECAL COLIFORM (MPN/100ml) TOTAL COLIFORM (MPN/100ml)Mean  year  \n",
              "0                            11                             27  2014  \n",
              "1                          4953                           8391  2014  \n",
              "2                          3243                           5330  2014  \n",
              "3                          5382                           8443  2014  \n",
              "4                          3428                           5500  2014  \n",
              "...                         ...                            ...   ...  \n",
              "1986                      0.518                            202  2003  \n",
              "1987                      0.155                            315  2003  \n",
              "1988                        NAN                            570  2003  \n",
              "1989                        NAN                            562  2003  \n",
              "1990                        NAN                            546  2003  \n",
              "\n",
              "[1991 rows x 12 columns]>"
            ]
          },
          "metadata": {},
          "execution_count": 5
        }
      ]
    },
    {
      "cell_type": "code",
      "source": [
        "data.describe"
      ],
      "metadata": {
        "colab": {
          "base_uri": "https://localhost:8080/"
        },
        "id": "IMO1uqJheaDN",
        "outputId": "2b1d2ae9-8bf2-44fa-956f-6f122b98d7b5"
      },
      "execution_count": 7,
      "outputs": [
        {
          "output_type": "execute_result",
          "data": {
            "text/plain": [
              "<bound method NDFrame.describe of      STATION CODE                                          LOCATIONS  \\\n",
              "0            1393               DAMANGANGA AT D/S OF MADHUBAN, DAMAN   \n",
              "1            1399  ZUARI AT D/S OF PT. WHERE KUMBARJRIA CANAL JOI...   \n",
              "2            1475                                ZUARI AT PANCHAWADI   \n",
              "3            3181                        RIVER ZUARI AT BORIM BRIDGE   \n",
              "4            3182                       RIVER ZUARI AT MARCAIM JETTY   \n",
              "...           ...                                                ...   \n",
              "1986         1330            TAMBIRAPARANI AT ARUMUGANERI, TAMILNADU   \n",
              "1987         1450  PALAR AT VANIYAMBADI WATER SUPPLY HEAD WORK, T...   \n",
              "1988         1403                 GUMTI AT U/S SOUTH TRIPURA,TRIPURA   \n",
              "1989         1404                GUMTI AT D/S SOUTH TRIPURA, TRIPURA   \n",
              "1990         1726   CHANDRAPUR, AGARTALA D/S OF HAORA RIVER, TRIPURA   \n",
              "\n",
              "            STATE  Temp D.O. (mg/l)   PH CONDUCTIVITY (µmhos/cm)  \\\n",
              "0     DAMAN & DIU  30.6         6.7  7.5                     203   \n",
              "1             GOA  29.8         5.7  7.2                     189   \n",
              "2             GOA  29.5         6.3  6.9                     179   \n",
              "3             GOA  29.7         5.8  6.9                      64   \n",
              "4             GOA  29.5         5.8  7.3                      83   \n",
              "...           ...   ...         ...  ...                     ...   \n",
              "1986          NAN   NAN         7.9  738                     7.2   \n",
              "1987          NAN    29         7.5  585                     6.3   \n",
              "1988          NAN    28         7.6   98                     6.2   \n",
              "1989          NAN    28         7.7   91                     6.5   \n",
              "1990          NAN    29         7.6  110                     5.7   \n",
              "\n",
              "     B.O.D. (mg/l) NITRATENAN N+ NITRITENANN (mg/l)  \\\n",
              "0              NAN                              0.1   \n",
              "1                2                              0.2   \n",
              "2              1.7                              0.1   \n",
              "3              3.8                              0.5   \n",
              "4              1.9                              0.4   \n",
              "...            ...                              ...   \n",
              "1986           2.7                            0.518   \n",
              "1987           2.6                            0.155   \n",
              "1988           1.2                              NAN   \n",
              "1989           1.3                              NAN   \n",
              "1990           1.1                              NAN   \n",
              "\n",
              "     FECAL COLIFORM (MPN/100ml) TOTAL COLIFORM (MPN/100ml)Mean  year  \n",
              "0                            11                             27  2014  \n",
              "1                          4953                           8391  2014  \n",
              "2                          3243                           5330  2014  \n",
              "3                          5382                           8443  2014  \n",
              "4                          3428                           5500  2014  \n",
              "...                         ...                            ...   ...  \n",
              "1986                      0.518                            202  2003  \n",
              "1987                      0.155                            315  2003  \n",
              "1988                        NAN                            570  2003  \n",
              "1989                        NAN                            562  2003  \n",
              "1990                        NAN                            546  2003  \n",
              "\n",
              "[1991 rows x 12 columns]>"
            ]
          },
          "metadata": {},
          "execution_count": 7
        }
      ]
    },
    {
      "cell_type": "code",
      "source": [
        "data.info()"
      ],
      "metadata": {
        "colab": {
          "base_uri": "https://localhost:8080/"
        },
        "id": "NZxEkSM3eeeO",
        "outputId": "7e957026-f980-4038-d768-ea65844ad388"
      },
      "execution_count": 6,
      "outputs": [
        {
          "output_type": "stream",
          "name": "stdout",
          "text": [
            "<class 'pandas.core.frame.DataFrame'>\n",
            "RangeIndex: 1991 entries, 0 to 1990\n",
            "Data columns (total 12 columns):\n",
            " #   Column                            Non-Null Count  Dtype \n",
            "---  ------                            --------------  ----- \n",
            " 0   STATION CODE                      1991 non-null   object\n",
            " 1   LOCATIONS                         1991 non-null   object\n",
            " 2   STATE                             1991 non-null   object\n",
            " 3   Temp                              1991 non-null   object\n",
            " 4   D.O. (mg/l)                       1991 non-null   object\n",
            " 5   PH                                1991 non-null   object\n",
            " 6   CONDUCTIVITY (µmhos/cm)           1991 non-null   object\n",
            " 7   B.O.D. (mg/l)                     1991 non-null   object\n",
            " 8   NITRATENAN N+ NITRITENANN (mg/l)  1991 non-null   object\n",
            " 9   FECAL COLIFORM (MPN/100ml)        1991 non-null   object\n",
            " 10  TOTAL COLIFORM (MPN/100ml)Mean    1991 non-null   object\n",
            " 11  year                              1991 non-null   int64 \n",
            "dtypes: int64(1), object(11)\n",
            "memory usage: 186.8+ KB\n"
          ]
        }
      ]
    },
    {
      "cell_type": "markdown",
      "source": [
        "HANDLING MISSING VALUES"
      ],
      "metadata": {
        "id": "Hga9iBgedX13"
      }
    },
    {
      "cell_type": "code",
      "source": [
        "data.isnull().any()"
      ],
      "metadata": {
        "colab": {
          "base_uri": "https://localhost:8080/"
        },
        "id": "c9ApNAw1eifJ",
        "outputId": "1d475128-fe17-415a-f645-c3f235fca88f"
      },
      "execution_count": 8,
      "outputs": [
        {
          "output_type": "execute_result",
          "data": {
            "text/plain": [
              "STATION CODE                        False\n",
              "LOCATIONS                           False\n",
              "STATE                               False\n",
              "Temp                                False\n",
              "D.O. (mg/l)                         False\n",
              "PH                                  False\n",
              "CONDUCTIVITY (µmhos/cm)             False\n",
              "B.O.D. (mg/l)                       False\n",
              "NITRATENAN N+ NITRITENANN (mg/l)    False\n",
              "FECAL COLIFORM (MPN/100ml)          False\n",
              "TOTAL COLIFORM (MPN/100ml)Mean      False\n",
              "year                                False\n",
              "dtype: bool"
            ]
          },
          "metadata": {},
          "execution_count": 8
        }
      ]
    },
    {
      "cell_type": "code",
      "source": [
        "data.isnull().sum()"
      ],
      "metadata": {
        "colab": {
          "base_uri": "https://localhost:8080/"
        },
        "id": "kY_fW--kep5a",
        "outputId": "c2a5ac21-db3c-4dee-e4b9-54315cef434b"
      },
      "execution_count": 9,
      "outputs": [
        {
          "output_type": "execute_result",
          "data": {
            "text/plain": [
              "STATION CODE                        0\n",
              "LOCATIONS                           0\n",
              "STATE                               0\n",
              "Temp                                0\n",
              "D.O. (mg/l)                         0\n",
              "PH                                  0\n",
              "CONDUCTIVITY (µmhos/cm)             0\n",
              "B.O.D. (mg/l)                       0\n",
              "NITRATENAN N+ NITRITENANN (mg/l)    0\n",
              "FECAL COLIFORM (MPN/100ml)          0\n",
              "TOTAL COLIFORM (MPN/100ml)Mean      0\n",
              "year                                0\n",
              "dtype: int64"
            ]
          },
          "metadata": {},
          "execution_count": 9
        }
      ]
    },
    {
      "cell_type": "code",
      "source": [
        "data.dtypes"
      ],
      "metadata": {
        "colab": {
          "base_uri": "https://localhost:8080/"
        },
        "id": "nxX2lAHNetlT",
        "outputId": "1121ff6f-b85b-404c-c547-541afa72c238"
      },
      "execution_count": 10,
      "outputs": [
        {
          "output_type": "execute_result",
          "data": {
            "text/plain": [
              "STATION CODE                        object\n",
              "LOCATIONS                           object\n",
              "STATE                               object\n",
              "Temp                                object\n",
              "D.O. (mg/l)                         object\n",
              "PH                                  object\n",
              "CONDUCTIVITY (µmhos/cm)             object\n",
              "B.O.D. (mg/l)                       object\n",
              "NITRATENAN N+ NITRITENANN (mg/l)    object\n",
              "FECAL COLIFORM (MPN/100ml)          object\n",
              "TOTAL COLIFORM (MPN/100ml)Mean      object\n",
              "year                                 int64\n",
              "dtype: object"
            ]
          },
          "metadata": {},
          "execution_count": 10
        }
      ]
    },
    {
      "cell_type": "code",
      "source": [
        "data['Temp']=pd.to_numeric(data['Temp'],errors='coerce')\n",
        "data.dtypes"
      ],
      "metadata": {
        "colab": {
          "base_uri": "https://localhost:8080/"
        },
        "id": "O_pj44VufScZ",
        "outputId": "62a11bbb-6da9-4103-fe34-ac2f01de9445"
      },
      "execution_count": 11,
      "outputs": [
        {
          "output_type": "execute_result",
          "data": {
            "text/plain": [
              "STATION CODE                         object\n",
              "LOCATIONS                            object\n",
              "STATE                                object\n",
              "Temp                                float64\n",
              "D.O. (mg/l)                          object\n",
              "PH                                   object\n",
              "CONDUCTIVITY (µmhos/cm)              object\n",
              "B.O.D. (mg/l)                        object\n",
              "NITRATENAN N+ NITRITENANN (mg/l)     object\n",
              "FECAL COLIFORM (MPN/100ml)           object\n",
              "TOTAL COLIFORM (MPN/100ml)Mean       object\n",
              "year                                  int64\n",
              "dtype: object"
            ]
          },
          "metadata": {},
          "execution_count": 11
        }
      ]
    },
    {
      "cell_type": "code",
      "source": [
        "data['D.O. (mg/l)']=pd.to_numeric(data['D.O. (mg/l)'],errors='coerce')\n",
        "data['PH']=pd.to_numeric(data['PH'],errors='coerce')\n",
        "data['B.O.D. (mg/l)']=pd.to_numeric(data['B.O.D. (mg/l)'],errors='coerce')\n",
        "data['CONDUCTIVITY (µmhos/cm)']=pd.to_numeric(data['CONDUCTIVITY (µmhos/cm)'],errors='coerce')\n",
        "data.dtypes"
      ],
      "metadata": {
        "colab": {
          "base_uri": "https://localhost:8080/"
        },
        "id": "-zU41PTcfoFk",
        "outputId": "a3084943-7d83-4661-ca55-0f35aaa747bc"
      },
      "execution_count": 12,
      "outputs": [
        {
          "output_type": "execute_result",
          "data": {
            "text/plain": [
              "STATION CODE                         object\n",
              "LOCATIONS                            object\n",
              "STATE                                object\n",
              "Temp                                float64\n",
              "D.O. (mg/l)                         float64\n",
              "PH                                  float64\n",
              "CONDUCTIVITY (µmhos/cm)             float64\n",
              "B.O.D. (mg/l)                       float64\n",
              "NITRATENAN N+ NITRITENANN (mg/l)     object\n",
              "FECAL COLIFORM (MPN/100ml)           object\n",
              "TOTAL COLIFORM (MPN/100ml)Mean       object\n",
              "year                                  int64\n",
              "dtype: object"
            ]
          },
          "metadata": {},
          "execution_count": 12
        }
      ]
    },
    {
      "cell_type": "code",
      "source": [
        "data['NITRATENAN N+ NITRITENANN (mg/l)']=pd.to_numeric(data['NITRATENAN N+ NITRITENANN (mg/l)'],errors='coerce')\n",
        "data['TOTAL COLIFORM (MPN/100ml)Mean']=pd.to_numeric(data['TOTAL COLIFORM (MPN/100ml)Mean'],errors='coerce')\n",
        "data.dtypes"
      ],
      "metadata": {
        "colab": {
          "base_uri": "https://localhost:8080/"
        },
        "id": "k16In7aKiqEA",
        "outputId": "b7200e00-3df9-4713-e0fe-a2004fa41d48"
      },
      "execution_count": 13,
      "outputs": [
        {
          "output_type": "execute_result",
          "data": {
            "text/plain": [
              "STATION CODE                         object\n",
              "LOCATIONS                            object\n",
              "STATE                                object\n",
              "Temp                                float64\n",
              "D.O. (mg/l)                         float64\n",
              "PH                                  float64\n",
              "CONDUCTIVITY (µmhos/cm)             float64\n",
              "B.O.D. (mg/l)                       float64\n",
              "NITRATENAN N+ NITRITENANN (mg/l)    float64\n",
              "FECAL COLIFORM (MPN/100ml)           object\n",
              "TOTAL COLIFORM (MPN/100ml)Mean      float64\n",
              "year                                  int64\n",
              "dtype: object"
            ]
          },
          "metadata": {},
          "execution_count": 13
        }
      ]
    },
    {
      "cell_type": "code",
      "source": [
        "data.isnull().sum()"
      ],
      "metadata": {
        "colab": {
          "base_uri": "https://localhost:8080/"
        },
        "id": "7fSzCSMHjTSr",
        "outputId": "9b0487cf-482a-465b-ab46-3f4ac6c4ad46"
      },
      "execution_count": 14,
      "outputs": [
        {
          "output_type": "execute_result",
          "data": {
            "text/plain": [
              "STATION CODE                          0\n",
              "LOCATIONS                             0\n",
              "STATE                                 0\n",
              "Temp                                 92\n",
              "D.O. (mg/l)                          31\n",
              "PH                                    8\n",
              "CONDUCTIVITY (µmhos/cm)              25\n",
              "B.O.D. (mg/l)                        43\n",
              "NITRATENAN N+ NITRITENANN (mg/l)    225\n",
              "FECAL COLIFORM (MPN/100ml)            0\n",
              "TOTAL COLIFORM (MPN/100ml)Mean      132\n",
              "year                                  0\n",
              "dtype: int64"
            ]
          },
          "metadata": {},
          "execution_count": 14
        }
      ]
    },
    {
      "cell_type": "code",
      "source": [
        "data['Temp'].fillna(data['Temp'].mean(),inplace=True)\n",
        "data['D.O. (mg/l)'].fillna(data['D.O. (mg/l)'].mean(),inplace=True)\n",
        "data['PH'].fillna(data['PH'].mean(),inplace=True)\n",
        "data['CONDUCTIVITY (µmhos/cm)'].fillna(data['CONDUCTIVITY (µmhos/cm)'].mean(),inplace=True)\n",
        "data['B.O.D. (mg/l)'].fillna(data['B.O.D. (mg/l)'].mean(),inplace=True)\n",
        "data['NITRATENAN N+ NITRITENANN (mg/l)'].fillna(data['NITRATENAN N+ NITRITENANN (mg/l)'].mean(),inplace=True)\n",
        "data['TOTAL COLIFORM (MPN/100ml)Mean'].fillna(data['TOTAL COLIFORM (MPN/100ml)Mean'].mean(),inplace=True)"
      ],
      "metadata": {
        "id": "OteU9ujmjfhc"
      },
      "execution_count": 15,
      "outputs": []
    },
    {
      "cell_type": "code",
      "source": [
        "data.drop(['FECAL COLIFORM (MPN/100ml)'],axis=1,inplace=True)"
      ],
      "metadata": {
        "id": "JEixVPNkkca5"
      },
      "execution_count": 16,
      "outputs": []
    },
    {
      "cell_type": "code",
      "source": [
        "data=data.rename(columns={'D.O. (mg/l)':'do'})\n",
        "data=data.rename(columns={'CONDUCTIVITY (µmhos/cm)':'co'})\n",
        "data=data.rename(columns={'B.O.D. (mg/l)':'bod'})\n",
        "data=data.rename(columns={'NITRATENAN N+ NITRITENANN (mg/l)':'na'})\n",
        "data=data.rename(columns={'TOTAL COLIFORM (MPN/100ml)Mean':'tc'})\n",
        "data=data.rename(columns={'STATION CODE':'station'})\n",
        "data=data.rename(columns={'LOCATIONS':'location'})\n",
        "data=data.rename(columns={'STATE':'state'})\n",
        "data=data.rename(columns={'PH':'ph'})"
      ],
      "metadata": {
        "id": "6NX7CgjNkzRX"
      },
      "execution_count": 17,
      "outputs": []
    }
  ]
}
